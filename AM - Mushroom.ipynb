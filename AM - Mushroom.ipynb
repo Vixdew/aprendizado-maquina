{
 "cells": [
  {
   "cell_type": "code",
   "execution_count": 130,
   "id": "f577751c",
   "metadata": {},
   "outputs": [],
   "source": [
    "import sklearn\n",
    "import pandas as pd\n",
    "import random\n",
    "from sklearn import datasets\n",
    "import math\n",
    "\n",
    "from sklearn.neighbors import KNeighborsClassifier\n",
    "from sklearn.ensemble import RandomForestClassifier\n",
    "from sklearn.linear_model import LinearRegression\n",
    "from sklearn.preprocessing import OneHotEncoder"
   ]
  },
  {
   "cell_type": "markdown",
   "id": "ca8cb7a0",
   "metadata": {},
   "source": [
    "## K-fold cross validation"
   ]
  },
  {
   "cell_type": "code",
   "execution_count": 131,
   "id": "59bc7013",
   "metadata": {},
   "outputs": [],
   "source": [
    "data = pd.read_csv('mushroom.tsv', sep='\\t')"
   ]
  },
  {
   "cell_type": "code",
   "execution_count": 132,
   "id": "24615794",
   "metadata": {},
   "outputs": [],
   "source": [
    "#Create K folds\n",
    "K = 5\n",
    "number_of_entries = data.shape[0]\n",
    "number_of_entries_edible = data[data['target'] == 0].shape[0]\n",
    "number_of_entries_poisonous = data[data['target'] == 1].shape[0]\n",
    "\n",
    "estrat = number_of_entries_poisonous / number_of_entries\n",
    "\n",
    "instancias_por_fold = number_of_entries / K\n",
    "instancias_por_fold_poison = math.floor(number_of_entries_poisonous / K)\n",
    "instancias_por_fold_edible = math.floor(number_of_entries_edible / K)\n",
    "\n",
    "fold_dataframes = []\n",
    "\n",
    "for i in range(1,K):\n",
    "    fold_df_poison = data[data['target'] == 1].sample(instancias_por_fold_poison)\n",
    "    fold_df_edible = data[data['target'] == 0].sample(instancias_por_fold_edible)\n",
    "    fold_df = pd.concat([fold_df_poison, fold_df_edible])\n",
    "    data = data.drop(fold_df.index)\n",
    "    fold_dataframes.append(fold_df)\n",
    "    \n",
    "fold_dataframes.append(data)"
   ]
  },
  {
   "cell_type": "markdown",
   "id": "f1f86c46",
   "metadata": {},
   "source": [
    "### Train KNN"
   ]
  },
  {
   "cell_type": "code",
   "execution_count": 135,
   "id": "17a4e8a0",
   "metadata": {},
   "outputs": [
    {
     "data": {
      "text/plain": [
       "[841, 0, 783, 0]"
      ]
     },
     "metadata": {},
     "output_type": "display_data"
    },
    {
     "data": {
      "text/plain": [
       "[841, 0, 783, 0]"
      ]
     },
     "metadata": {},
     "output_type": "display_data"
    },
    {
     "data": {
      "text/plain": [
       "[841, 0, 783, 0]"
      ]
     },
     "metadata": {},
     "output_type": "display_data"
    },
    {
     "data": {
      "text/plain": [
       "[841, 0, 783, 0]"
      ]
     },
     "metadata": {},
     "output_type": "display_data"
    },
    {
     "data": {
      "text/plain": [
       "[844, 0, 784, 0]"
      ]
     },
     "metadata": {},
     "output_type": "display_data"
    }
   ],
   "source": [
    "KNN = KNeighborsClassifier(n_neighbors=9)\n",
    "KNN_metrics = []\n",
    "KKN_metrics_calculated = []\n",
    "\n",
    "for i in range(0, K):\n",
    "    train_data = {}\n",
    "\n",
    "    #Cria dataset com todos os folds menos o i-ésimo, que será usado para teste\n",
    "    train_data = pd.concat(fold_dataframes)\n",
    "    train_data.drop(fold_dataframes[i].index)\n",
    "\n",
    "    #Pega dados de teste, remove a coluna target\n",
    "    features = train_data.columns[1:-1]\n",
    "    X = train_data.loc[:, features]\n",
    "    y = train_data.target\n",
    "\n",
    "    #Faz o fitting do algoritmo\n",
    "    KNN.fit(X, y)\n",
    "\n",
    "    #Testa com dados de teste\n",
    "    test_data = fold_dataframes[i].loc[:, features]\n",
    "    predictions = KNN.predict(test_data)\n",
    "    truth_val = fold_dataframes[i].loc[:, 'target'].tolist()\n",
    "\n",
    "    vp = 0\n",
    "    fp = 0\n",
    "    vn = 0\n",
    "    fn = 0\n",
    "    #Contabiliza verdadeiros positivos, verdadeiros negativos, falsos positivos e falsos negativos\n",
    "    for j in range(0, test_data.shape[0]):\n",
    "        if predictions[j] == 0 and predictions[j] == truth_val[j]:\n",
    "            vp += 1\n",
    "        elif predictions[j] == 0 and predictions[j] != truth_val[j]:\n",
    "            fp += 1\n",
    "        elif predictions[j] == 1 and predictions[j] == truth_val[j]:\n",
    "            vn += 1\n",
    "        else:\n",
    "            fn += 1\n",
    "\n",
    "    results = [vp, fp, vn, fn]\n",
    "    KNN_metric = {}\n",
    "    KNN_metric[\"acc\"] = (vp + vn) / (vp + vn + fp + fn)\n",
    "    KNN_metric[\"sens\"] = (vp) / (vp + fn)\n",
    "    KNN_metric[\"prec\"] = (vp) / (vp+fp)\n",
    "    \n",
    "    β = 0.5\n",
    "    KNN_metric[\"f1\"] = (1+β*β)*KNN_metric[\"prec\"]*KNN_metric[\"sens\"]/(β*β * KNN_metric[\"prec\"] + KNN_metric[\"sens\"])\n",
    "    \n",
    "    KKN_metrics_calculated.append(KNN_metric)\n",
    "    display(results)\n",
    "    KNN_metrics.append(results)"
   ]
  },
  {
   "cell_type": "code",
   "execution_count": 136,
   "id": "c21267bf",
   "metadata": {},
   "outputs": [
    {
     "data": {
      "text/plain": [
       "[{'acc': 1.0, 'sens': 1.0, 'prec': 1.0, 'f1': 1.0},\n",
       " {'acc': 1.0, 'sens': 1.0, 'prec': 1.0, 'f1': 1.0},\n",
       " {'acc': 1.0, 'sens': 1.0, 'prec': 1.0, 'f1': 1.0},\n",
       " {'acc': 1.0, 'sens': 1.0, 'prec': 1.0, 'f1': 1.0},\n",
       " {'acc': 1.0, 'sens': 1.0, 'prec': 1.0, 'f1': 1.0}]"
      ]
     },
     "execution_count": 136,
     "metadata": {},
     "output_type": "execute_result"
    }
   ],
   "source": [
    "KKN_metrics_calculated"
   ]
  },
  {
   "cell_type": "markdown",
   "id": "597c8548",
   "metadata": {},
   "source": [
    "### Train Randomized Forest"
   ]
  },
  {
   "cell_type": "code",
   "execution_count": 137,
   "id": "07d504fa",
   "metadata": {},
   "outputs": [
    {
     "data": {
      "text/plain": [
       "[841, 0, 783, 0]"
      ]
     },
     "metadata": {},
     "output_type": "display_data"
    },
    {
     "data": {
      "text/plain": [
       "[841, 0, 783, 0]"
      ]
     },
     "metadata": {},
     "output_type": "display_data"
    },
    {
     "data": {
      "text/plain": [
       "[841, 0, 783, 0]"
      ]
     },
     "metadata": {},
     "output_type": "display_data"
    },
    {
     "data": {
      "text/plain": [
       "[841, 0, 783, 0]"
      ]
     },
     "metadata": {},
     "output_type": "display_data"
    },
    {
     "data": {
      "text/plain": [
       "[844, 0, 784, 0]"
      ]
     },
     "metadata": {},
     "output_type": "display_data"
    }
   ],
   "source": [
    "RFC = RandomForestClassifier(max_depth=10, random_state=0)\n",
    "RFC_metrics = []\n",
    "RFC_metrics_calculated = []\n",
    "\n",
    "for i in range(0, K):\n",
    "    train_data = {}\n",
    "\n",
    "    #Cria dataset com todos os folds menos o i-ésimo, que será usado para teste\n",
    "    train_data = pd.concat(fold_dataframes)\n",
    "    train_data.drop(fold_dataframes[i].index)\n",
    "\n",
    "    #Pega dados de teste, remove a coluna target\n",
    "    features = train_data.columns[1:-1]\n",
    "    X = train_data.loc[:, features]\n",
    "    y = train_data.target\n",
    "\n",
    "    #Faz o fitting do algoritmo\n",
    "    RFC.fit(X, y)\n",
    "\n",
    "    #Testa com dados de teste\n",
    "    test_data = fold_dataframes[i].loc[:, features]\n",
    "    predictions = RFC.predict(test_data)\n",
    "    truth_val = fold_dataframes[i].loc[:, 'target'].tolist()\n",
    "\n",
    "    vp = 0\n",
    "    fp = 0\n",
    "    vn = 0\n",
    "    fn = 0\n",
    "    #Contabiliza verdadeiros positivos, verdadeiros negativos, falsos positivos e falsos negativos\n",
    "    for j in range(0, test_data.shape[0]):\n",
    "        if predictions[j] == 0 and predictions[j] == truth_val[j]:\n",
    "            vp += 1\n",
    "        elif predictions[j] == 0 and predictions[j] != truth_val[j]:\n",
    "            fp += 1\n",
    "        elif predictions[j] == 1 and predictions[j] == truth_val[j]:\n",
    "            vn += 1\n",
    "        else:\n",
    "            fn += 1\n",
    "\n",
    "    results = [vp, fp, vn, fn]\n",
    "    RFC_metric = {}\n",
    "    RFC_metric[\"acc\"] = (vp + vn) / (vp + vn + fp + fn)\n",
    "    RFC_metric[\"sens\"] = (vp) / (vp + fn)\n",
    "    RFC_metric[\"prec\"] = (vp) / (vp+fp)\n",
    "    \n",
    "    β = 0.5\n",
    "    RFC_metric[\"f1\"] = (1+β*β)*RFC_metric[\"prec\"]*RFC_metric[\"sens\"]/(β*β * RFC_metric[\"prec\"] + RFC_metric[\"sens\"])\n",
    "    RFC_metrics_calculated.append(RFC_metric)\n",
    "    display(results)\n",
    "    RFC_metrics.append(results)\n",
    "    "
   ]
  },
  {
   "cell_type": "code",
   "execution_count": 138,
   "id": "f80d39e7",
   "metadata": {},
   "outputs": [
    {
     "data": {
      "text/plain": [
       "[{'acc': 1.0, 'sens': 1.0, 'prec': 1.0, 'f1': 1.0},\n",
       " {'acc': 1.0, 'sens': 1.0, 'prec': 1.0, 'f1': 1.0},\n",
       " {'acc': 1.0, 'sens': 1.0, 'prec': 1.0, 'f1': 1.0},\n",
       " {'acc': 1.0, 'sens': 1.0, 'prec': 1.0, 'f1': 1.0},\n",
       " {'acc': 1.0, 'sens': 1.0, 'prec': 1.0, 'f1': 1.0}]"
      ]
     },
     "execution_count": 138,
     "metadata": {},
     "output_type": "execute_result"
    }
   ],
   "source": [
    "RFC_metrics_calculated"
   ]
  },
  {
   "cell_type": "markdown",
   "id": "32c6c7c0",
   "metadata": {},
   "source": [
    "### Train Linear Regression"
   ]
  },
  {
   "cell_type": "code",
   "execution_count": 139,
   "id": "d68b9c1b",
   "metadata": {},
   "outputs": [
    {
     "data": {
      "text/plain": [
       "[796, 85, 698, 45]"
      ]
     },
     "metadata": {},
     "output_type": "display_data"
    },
    {
     "data": {
      "text/plain": [
       "[787, 59, 724, 54]"
      ]
     },
     "metadata": {},
     "output_type": "display_data"
    },
    {
     "data": {
      "text/plain": [
       "[796, 57, 726, 45]"
      ]
     },
     "metadata": {},
     "output_type": "display_data"
    },
    {
     "data": {
      "text/plain": [
       "[810, 67, 716, 31]"
      ]
     },
     "metadata": {},
     "output_type": "display_data"
    },
    {
     "data": {
      "text/plain": [
       "[811, 63, 721, 33]"
      ]
     },
     "metadata": {},
     "output_type": "display_data"
    }
   ],
   "source": [
    "\n",
    "LR = LinearRegression()\n",
    "LR_metrics = []\n",
    "LR_metrics_calculated = []\n",
    "\n",
    "for i in range(0, K):\n",
    "    train_data = {}\n",
    "\n",
    "    #Cria dataset com todos os folds menos o i-ésimo, que será usado para teste\n",
    "    train_data = pd.concat(fold_dataframes)\n",
    "    train_data.drop(fold_dataframes[i].index)\n",
    "\n",
    "    #Pega dados de teste, remove a coluna target\n",
    "    features = train_data.columns[1:-1]\n",
    "    X = train_data.loc[:, features]\n",
    "    y = train_data.target\n",
    "\n",
    "    #Faz o fitting do algoritmo\n",
    "    LR.fit(X, y)\n",
    "\n",
    "    #Testa com dados de teste\n",
    "    test_data = fold_dataframes[i].loc[:, features]\n",
    "    predictions = LR.predict(test_data)\n",
    "    truth_val = fold_dataframes[i].loc[:, 'target'].tolist()\n",
    "\n",
    "    vp = 0\n",
    "    fp = 0\n",
    "    vn = 0\n",
    "    fn = 0\n",
    "    #Contabiliza verdadeiros positivos, verdadeiros negativos, falsos positivos e falsos negativos\n",
    "    for j in range(0, test_data.shape[0]):\n",
    "        if predictions[j] < 0.5 and 0 == truth_val[j]:\n",
    "            vp += 1\n",
    "        elif predictions[j] < 0.5 and 0 != truth_val[j]:\n",
    "            fp += 1\n",
    "        elif predictions[j] >= 0.5 and 1 == truth_val[j]:\n",
    "            vn += 1\n",
    "        else:\n",
    "            fn += 1\n",
    "\n",
    "    results = [vp, fp, vn, fn]\n",
    "    LR_metric = {}\n",
    "    LR_metric[\"acc\"] = (vp + vn) / (vp + vn + fp + fn)\n",
    "    LR_metric[\"sens\"] = (vp) / (vp + fn)\n",
    "    LR_metric[\"prec\"] = (vp) / (vp+fp)\n",
    "    \n",
    "    β = 0.5\n",
    "    LR_metric[\"f1\"] = (1+β*β)*LR_metric[\"prec\"]*LR_metric[\"sens\"]/(β*β * LR_metric[\"prec\"] + LR_metric[\"sens\"])\n",
    "    LR_metrics_calculated.append(LR_metric)\n",
    "    display(results)\n",
    "    LR_metrics.append(results)"
   ]
  },
  {
   "cell_type": "code",
   "execution_count": 141,
   "id": "c31d1b95",
   "metadata": {},
   "outputs": [
    {
     "data": {
      "text/plain": [
       "[{'acc': 0.9199507389162561,\n",
       "  'sens': 0.9464922711058263,\n",
       "  'prec': 0.9035187287173666,\n",
       "  'f1': 0.9117983963344788},\n",
       " {'acc': 0.9304187192118226,\n",
       "  'sens': 0.9357907253269917,\n",
       "  'prec': 0.9302600472813238,\n",
       "  'f1': 0.931360946745562},\n",
       " {'acc': 0.937192118226601,\n",
       "  'sens': 0.9464922711058263,\n",
       "  'prec': 0.9331770222743259,\n",
       "  'f1': 0.9358100164589702},\n",
       " {'acc': 0.9396551724137931,\n",
       "  'sens': 0.9631391200951248,\n",
       "  'prec': 0.9236031927023945,\n",
       "  'f1': 0.9312485628880203},\n",
       " {'acc': 0.941031941031941,\n",
       "  'sens': 0.9609004739336493,\n",
       "  'prec': 0.9279176201372997,\n",
       "  'f1': 0.934331797235023}]"
      ]
     },
     "execution_count": 141,
     "metadata": {},
     "output_type": "execute_result"
    }
   ],
   "source": [
    "LR_metrics_calculated"
   ]
  },
  {
   "cell_type": "markdown",
   "id": "7624fc65",
   "metadata": {},
   "source": [
    "### Generating Graphs For Analysis"
   ]
  },
  {
   "cell_type": "code",
   "execution_count": 140,
   "id": "427e424e",
   "metadata": {
    "scrolled": false
   },
   "outputs": [
    {
     "data": {
      "image/png": "[encoded data removed]",
      "text/plain": [
       "<Figure size 432x288 with 1 Axes>"
      ]
     },
     "metadata": {
      "needs_background": "light"
     },
     "output_type": "display_data"
    },
    {
     "data": {
      "image/png": "[encoded data removed]",
      "text/plain": [
       "<Figure size 432x288 with 1 Axes>"
      ]
     },
     "metadata": {
      "needs_background": "light"
     },
     "output_type": "display_data"
    },
    {
     "data": {
      "image/png": "[encoded data removed]",
      "text/plain": [
       "<Figure size 432x288 with 1 Axes>"
      ]
     },
     "metadata": {
      "needs_background": "light"
     },
     "output_type": "display_data"
    },
    {
     "data": {
      "image/png": "[encoded data removed]",
      "text/plain": [
       "<Figure size 432x288 with 1 Axes>"
      ]
     },
     "metadata": {
      "needs_background": "light"
     },
     "output_type": "display_data"
    },
    {
     "data": {
      "text/html": [
       "<div>\n",
       "<style scoped>\n",
       "    .dataframe tbody tr th:only-of-type {\n",
       "        vertical-align: middle;\n",
       "    }\n",
       "\n",
       "    .dataframe tbody tr th {\n",
       "        vertical-align: top;\n",
       "    }\n",
       "\n",
       "    .dataframe thead th {\n",
       "        text-align: right;\n",
       "    }\n",
       "</style>\n",
       "<table border=\"1\" class=\"dataframe\">\n",
       "  <thead>\n",
       "    <tr style=\"text-align: right;\">\n",
       "      <th></th>\n",
       "      <th>Algorithm</th>\n",
       "      <th>Accuracy</th>\n",
       "      <th>Sensibility</th>\n",
       "      <th>Precision</th>\n",
       "      <th>F1-Measure</th>\n",
       "    </tr>\n",
       "  </thead>\n",
       "  <tbody>\n",
       "    <tr>\n",
       "      <th>0</th>\n",
       "      <td>K-Nearest Neighbours</td>\n",
       "      <td>0.000000</td>\n",
       "      <td>0.000000</td>\n",
       "      <td>0.000000</td>\n",
       "      <td>0.000000</td>\n",
       "    </tr>\n",
       "    <tr>\n",
       "      <th>1</th>\n",
       "      <td>Randomized Forests</td>\n",
       "      <td>0.000000</td>\n",
       "      <td>0.000000</td>\n",
       "      <td>0.000000</td>\n",
       "      <td>0.000000</td>\n",
       "    </tr>\n",
       "    <tr>\n",
       "      <th>2</th>\n",
       "      <td>Linear Regression</td>\n",
       "      <td>0.007762</td>\n",
       "      <td>0.010163</td>\n",
       "      <td>0.010563</td>\n",
       "      <td>0.008733</td>\n",
       "    </tr>\n",
       "  </tbody>\n",
       "</table>\n",
       "</div>"
      ],
      "text/plain": [
       "              Algorithm  Accuracy  Sensibility  Precision  F1-Measure\n",
       "0  K-Nearest Neighbours  0.000000     0.000000   0.000000    0.000000\n",
       "1    Randomized Forests  0.000000     0.000000   0.000000    0.000000\n",
       "2     Linear Regression  0.007762     0.010163   0.010563    0.008733"
      ]
     },
     "execution_count": 140,
     "metadata": {},
     "output_type": "execute_result"
    }
   ],
   "source": [
    "import pandas as pd\n",
    "import seaborn as sbs\n",
    "import matplotlib.pyplot as plt\n",
    "import math\n",
    "\n",
    "knn_accuracies = []\n",
    "knn_sensibility = []\n",
    "knn_precision = []\n",
    "knn_f1Measure = []\n",
    "knn_name = []\n",
    "randomized_accuracies = []\n",
    "randomized_sensibility = []\n",
    "randomized_precision = []\n",
    "randomized_name = []\n",
    "randomized_f1Measure =[]\n",
    "lr_accuracies = []\n",
    "lr_sensibility = []\n",
    "lr_precision=[]\n",
    "lr_f1Measure=[]\n",
    "lr_name = []\n",
    "\n",
    "### Generating Dataset for Graphs and Tables\n",
    "\n",
    "for result in KKN_metrics_calculated:\n",
    "    knn_accuracies.append(result[\"acc\"])\n",
    "    knn_sensibility.append(result[\"sens\"])\n",
    "    knn_precision.append(result[\"prec\"])\n",
    "    knn_f1Measure.append(result[\"f1\"])\n",
    "    knn_name.append('K-Nearest Neighbours')\n",
    "\n",
    "for result in RFC_metrics_calculated:\n",
    "    randomized_accuracies.append(result[\"acc\"])\n",
    "    randomized_sensibility.append(result[\"sens\"])\n",
    "    randomized_precision.append(result[\"prec\"])\n",
    "    randomized_f1Measure.append(result[\"f1\"])\n",
    "    randomized_name.append('Randomized Forests')\n",
    "\n",
    "for result in LR_metrics_calculated:\n",
    "    lr_accuracies.append(result[\"acc\"])\n",
    "    lr_sensibility.append(result[\"sens\"])\n",
    "    lr_precision.append(result[\"prec\"])\n",
    "    lr_f1Measure.append(result[\"f1\"])\n",
    "    lr_name.append('Linear Regression')\n",
    "    \n",
    "    \n",
    "### Generating Graphs for the Accuracy, Sensibility, Precision and F1-Measure of each algorithm\n",
    "    \n",
    "algorithms_accuracy_data = {'Algorithm':knn_name+randomized_name+lr_name,'Accuracy':knn_accuracies+randomized_accuracies+lr_accuracies}\n",
    "df = pd.DataFrame(algorithms_accuracy_data)\n",
    "sbs.boxplot(x=(df[\"Algorithm\"]), y=(df[\"Accuracy\"]))\n",
    "plt.ylim([0.92,1.001])\n",
    "plt.show()\n",
    "\n",
    "algorithms_sensibility_data = {'Algorithm':knn_name+randomized_name+lr_name,'Sensibility':knn_sensibility+randomized_sensibility+lr_sensibility}\n",
    "df = pd.DataFrame(algorithms_sensibility_data)\n",
    "sbs.boxplot(x=(df[\"Algorithm\"]), y=(df[\"Sensibility\"]))\n",
    "plt.ylim([0.92,1.001])\n",
    "plt.show()\n",
    "\n",
    "algorithms_precision_data = {'Algorithm':knn_name+randomized_name+lr_name,'Precision':knn_precision+randomized_precision+lr_precision}\n",
    "df = pd.DataFrame(algorithms_precision_data)\n",
    "sbs.boxplot(x=(df[\"Algorithm\"]), y=(df[\"Precision\"]))\n",
    "plt.ylim([0.92,1.001])\n",
    "plt.show()\n",
    "\n",
    "algorithms_f1_data = {'Algorithm':knn_name+randomized_name+lr_name,'F1-Measure':knn_f1Measure+randomized_f1Measure+lr_f1Measure}\n",
    "df = pd.DataFrame(algorithms_f1_data)\n",
    "sbs.boxplot(x=(df[\"Algorithm\"]), y=(df[\"F1-Measure\"]))\n",
    "plt.ylim([0.92,1.001])\n",
    "plt.show()\n",
    "\n",
    "# Generating Data for Standard Deviation Table\n",
    "\n",
    "def getStandardDeviation(listOfValues):\n",
    "    mediaOfValues = sum(listOfValues)/len(listOfValues)\n",
    "    sum_of_terms = 0\n",
    "    \n",
    "    for value in listOfValues:\n",
    "        sum_of_terms += (value - mediaOfValues) ** 2\n",
    "    \n",
    "    standard_deviation = math.sqrt(sum_of_terms/len(listOfValues))\n",
    "    return standard_deviation\n",
    "\n",
    "\n",
    "algorithms_names = ['K-Nearest Neighbours', 'Randomized Forests', 'Linear Regression']\n",
    "accuracies_standard_deviations = [getStandardDeviation(knn_accuracies), getStandardDeviation(randomized_accuracies), getStandardDeviation(lr_accuracies)]\n",
    "sensibility_standard_deviations = [getStandardDeviation(knn_sensibility), getStandardDeviation(randomized_sensibility), getStandardDeviation(lr_sensibility)]\n",
    "precision_standard_deviations = [getStandardDeviation(knn_precision), getStandardDeviation(randomized_precision), getStandardDeviation(lr_precision)]\n",
    "f1_measure_standard_deviations = [getStandardDeviation(knn_f1Measure), getStandardDeviation(randomized_f1Measure), getStandardDeviation(lr_f1Measure)]\n",
    "\n",
    "algorithms_standardDeviation_data = {'Algorithm':algorithms_names,'Accuracy':accuracies_standard_deviations, 'Sensibility':sensibility_standard_deviations, 'Precision':precision_standard_deviations, 'F1-Measure': f1_measure_standard_deviations}\n",
    "df = pd.DataFrame(algorithms_standardDeviation_data)\n",
    "df"
   ]
  }
 ],
 "metadata": {
  "kernelspec": {
   "display_name": "Python 3 (ipykernel)",
   "language": "python",
   "name": "python3"
  },
  "language_info": {
   "codemirror_mode": {
    "name": "ipython",
    "version": 3
   },
   "file_extension": ".py",
   "mimetype": "text/x-python",
   "name": "python",
   "nbconvert_exporter": "python",
   "pygments_lexer": "ipython3",
   "version": "3.10.5"
  }
 },
 "nbformat": 4,
 "nbformat_minor": 5
}
