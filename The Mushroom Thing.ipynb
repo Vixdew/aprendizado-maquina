{
 "cells": [
  {
   "cell_type": "code",
   "execution_count": 80,
   "id": "f577751c",
   "metadata": {},
   "outputs": [],
   "source": [
    "import sklearn\n",
    "import pandas as pd\n",
    "import random\n",
    "from sklearn import datasets\n",
    "import math\n",
    "\n",
    "from sklearn.neighbors import KNeighborsClassifier\n",
    "from sklearn.ensemble import RandomForestClassifier\n",
    "from sklearn.linear_model import LinearRegression\n",
    "from sklearn.preprocessing import OneHotEncoder"
   ]
  },
  {
   "cell_type": "markdown",
   "id": "ca8cb7a0",
   "metadata": {},
   "source": [
    "## K-fold cross validation"
   ]
  },
  {
   "cell_type": "code",
   "execution_count": 81,
   "id": "59bc7013",
   "metadata": {},
   "outputs": [],
   "source": [
    "data = pd.read_csv('mushroom.tsv', sep='\\t')"
   ]
  },
  {
   "cell_type": "code",
   "execution_count": 82,
   "id": "24615794",
   "metadata": {},
   "outputs": [],
   "source": [
    "#Create K folds\n",
    "K = 5\n",
    "number_of_entries = data.shape[0]\n",
    "number_of_entries_edible = data[data['target'] == 0].shape[0]\n",
    "number_of_entries_poisonous = data[data['target'] == 1].shape[0]\n",
    "\n",
    "estrat = number_of_entries_poisonous / number_of_entries\n",
    "\n",
    "instancias_por_fold = number_of_entries / K\n",
    "instancias_por_fold_poison = math.floor(number_of_entries_poisonous / K)\n",
    "instancias_por_fold_edible = math.floor(number_of_entries_edible / K)\n",
    "\n",
    "fold_dataframes = []\n",
    "\n",
    "for i in range(1,K):\n",
    "    fold_df_poison = data[data['target'] == 1].sample(instancias_por_fold_poison)\n",
    "    fold_df_edible = data[data['target'] == 0].sample(instancias_por_fold_edible)\n",
    "    fold_df = pd.concat([fold_df_poison, fold_df_edible])\n",
    "    data = data.drop(fold_df.index)\n",
    "    fold_dataframes.append(fold_df)\n",
    "    \n",
    "fold_dataframes.append(data)"
   ]
  },
  {
   "cell_type": "code",
   "execution_count": 83,
   "id": "994f15d8",
   "metadata": {
    "scrolled": true
   },
   "outputs": [],
   "source": [
    "a = pd.concat(fold_dataframes)"
   ]
  },
  {
   "cell_type": "code",
   "execution_count": 84,
   "id": "d350dc08",
   "metadata": {},
   "outputs": [
    {
     "data": {
      "text/plain": [
       "Int64Index([1361, 5907, 7842,  146,  192, 6179, 3273, 2830, 6173,  243,\n",
       "            ...\n",
       "            3680, 2046,  501, 1128, 7223, 7417,  829, 3961,  175, 5076],\n",
       "           dtype='int64', length=1624)"
      ]
     },
     "metadata": {},
     "output_type": "display_data"
    }
   ],
   "source": [
    "display(fold_dataframes[0].index)"
   ]
  },
  {
   "cell_type": "markdown",
   "id": "f1f86c46",
   "metadata": {},
   "source": [
    "### Train KNN"
   ]
  },
  {
   "cell_type": "code",
   "execution_count": 85,
   "id": "17a4e8a0",
   "metadata": {},
   "outputs": [
    {
     "data": {
      "text/plain": [
       "[828, 5, 778, 13]"
      ]
     },
     "metadata": {},
     "output_type": "display_data"
    },
    {
     "data": {
      "text/plain": [
       "[832, 7, 776, 9]"
      ]
     },
     "metadata": {},
     "output_type": "display_data"
    },
    {
     "data": {
      "text/plain": [
       "[831, 7, 776, 10]"
      ]
     },
     "metadata": {},
     "output_type": "display_data"
    },
    {
     "data": {
      "text/plain": [
       "[836, 7, 776, 5]"
      ]
     },
     "metadata": {},
     "output_type": "display_data"
    },
    {
     "data": {
      "text/plain": [
       "[825, 14, 770, 19]"
      ]
     },
     "metadata": {},
     "output_type": "display_data"
    },
    {
     "data": {
      "image/png": "[encoded data removed]",
      "text/plain": [
       "<Figure size 432x288 with 1 Axes>"
      ]
     },
     "metadata": {
      "needs_background": "light"
     },
     "output_type": "display_data"
    }
   ],
   "source": [
    "KNN = KNeighborsClassifier(n_neighbors=51)\n",
    "KNN_metrics = []\n",
    "KKN_metrics_calculated = []\n",
    "\n",
    "for i in range(0, K):\n",
    "    train_data = {}\n",
    "\n",
    "    #Cria dataset com todos os folds menos o i-ésimo, que será usado para teste\n",
    "    train_data = pd.concat(fold_dataframes)\n",
    "    train_data.drop(fold_dataframes[i].index)\n",
    "\n",
    "    #Pega dados de teste, remove a coluna target\n",
    "    features = train_data.columns[1:-1]\n",
    "    X = train_data.loc[:, features]\n",
    "    y = train_data.target\n",
    "\n",
    "    #Faz o fitting do algoritmo\n",
    "    KNN.fit(X, y)\n",
    "\n",
    "    #Testa com dados de teste\n",
    "    test_data = fold_dataframes[i].loc[:, features]\n",
    "    predictions = KNN.predict(test_data)\n",
    "    truth_val = fold_dataframes[i].loc[:, 'target'].tolist()\n",
    "\n",
    "    vp = 0\n",
    "    fp = 0\n",
    "    vn = 0\n",
    "    fn = 0\n",
    "    #Contabiliza verdadeiros positivos, verdadeiros negativos, falsos positivos e falsos negativos\n",
    "    for j in range(0, test_data.shape[0]):\n",
    "        if predictions[j] == 0 and predictions[j] == truth_val[j]:\n",
    "            vp += 1\n",
    "        elif predictions[j] == 0 and predictions[j] != truth_val[j]:\n",
    "            fp += 1\n",
    "        elif predictions[j] == 1 and predictions[j] == truth_val[j]:\n",
    "            vn += 1\n",
    "        else:\n",
    "            fn += 1\n",
    "\n",
    "    results = [vp, fp, vn, fn]\n",
    "    KNN_metric = {}\n",
    "    KNN_metric[\"acc\"] = (vp + vn) / (vp + vn + fp + fn)\n",
    "    KNN_metric[\"sens\"] = (vp) / (vp + fn)\n",
    "    KNN_metric[\"prec\"] = (vp) / (vp+fp)\n",
    "    \n",
    "    β = 0.5\n",
    "    KNN_metric[\"f1\"] = (1+β*β)*KNN_metric[\"prec\"]*KNN_metric[\"sens\"]/(β*β * KNN_metric[\"prec\"] + KNN_metric[\"sens\"])\n",
    "    \n",
    "    KKN_metrics_calculated.append(KNN_metric)\n",
    "    display(results)\n",
    "    KNN_metrics.append(results)"
   ]
  },
  {
   "cell_type": "code",
   "execution_count": 86,
   "id": "c21267bf",
   "metadata": {},
   "outputs": [
    {
     "data": {
      "text/plain": [
       "[{'acc': 0.9889162561576355,\n",
       "  'sens': 0.9845422116527943,\n",
       "  'prec': 0.9939975990396158,\n",
       "  'f1': 0.9920920201294033},\n",
       " {'acc': 0.9901477832512315,\n",
       "  'sens': 0.9892984542211652,\n",
       "  'prec': 0.9916567342073898,\n",
       "  'f1': 0.9911841791756015},\n",
       " {'acc': 0.9895320197044335,\n",
       "  'sens': 0.9881093935790726,\n",
       "  'prec': 0.9916467780429594,\n",
       "  'f1': 0.9909372764130694},\n",
       " {'acc': 0.9926108374384236,\n",
       "  'sens': 0.9940546967895363,\n",
       "  'prec': 0.9916963226571768,\n",
       "  'f1': 0.9921671018276764},\n",
       " {'acc': 0.9797297297297297,\n",
       "  'sens': 0.9774881516587678,\n",
       "  'prec': 0.9833134684147795,\n",
       "  'f1': 0.9821428571428573}]"
      ]
     },
     "execution_count": 86,
     "metadata": {},
     "output_type": "execute_result"
    }
   ],
   "source": [
    "KKN_metrics_calculated"
   ]
  },
  {
   "cell_type": "markdown",
   "id": "597c8548",
   "metadata": {},
   "source": [
    "### Train Randomized Forest"
   ]
  },
  {
   "cell_type": "code",
   "execution_count": 87,
   "id": "07d504fa",
   "metadata": {},
   "outputs": [
    {
     "data": {
      "text/plain": [
       "[841, 0, 783, 0]"
      ]
     },
     "metadata": {},
     "output_type": "display_data"
    },
    {
     "data": {
      "text/plain": [
       "[841, 0, 783, 0]"
      ]
     },
     "metadata": {},
     "output_type": "display_data"
    },
    {
     "data": {
      "text/plain": [
       "[841, 0, 783, 0]"
      ]
     },
     "metadata": {},
     "output_type": "display_data"
    },
    {
     "data": {
      "text/plain": [
       "[841, 0, 783, 0]"
      ]
     },
     "metadata": {},
     "output_type": "display_data"
    },
    {
     "data": {
      "text/plain": [
       "[844, 0, 784, 0]"
      ]
     },
     "metadata": {},
     "output_type": "display_data"
    }
   ],
   "source": [
    "RFC = RandomForestClassifier(max_depth=10, random_state=0)\n",
    "RFC_metrics = []\n",
    "RFC_metrics_calculated = []\n",
    "\n",
    "for i in range(0, K):\n",
    "    train_data = {}\n",
    "\n",
    "    #Cria dataset com todos os folds menos o i-ésimo, que será usado para teste\n",
    "    train_data = pd.concat(fold_dataframes)\n",
    "    train_data.drop(fold_dataframes[i].index)\n",
    "\n",
    "    #Pega dados de teste, remove a coluna target\n",
    "    features = train_data.columns[1:-1]\n",
    "    X = train_data.loc[:, features]\n",
    "    y = train_data.target\n",
    "\n",
    "    #Faz o fitting do algoritmo\n",
    "    RFC.fit(X, y)\n",
    "\n",
    "    #Testa com dados de teste\n",
    "    test_data = fold_dataframes[i].loc[:, features]\n",
    "    predictions = RFC.predict(test_data)\n",
    "    truth_val = fold_dataframes[i].loc[:, 'target'].tolist()\n",
    "\n",
    "    vp = 0\n",
    "    fp = 0\n",
    "    vn = 0\n",
    "    fn = 0\n",
    "    #Contabiliza verdadeiros positivos, verdadeiros negativos, falsos positivos e falsos negativos\n",
    "    for j in range(0, test_data.shape[0]):\n",
    "        if predictions[j] == 0 and predictions[j] == truth_val[j]:\n",
    "            vp += 1\n",
    "        elif predictions[j] == 0 and predictions[j] != truth_val[j]:\n",
    "            fp += 1\n",
    "        elif predictions[j] == 1 and predictions[j] == truth_val[j]:\n",
    "            vn += 1\n",
    "        else:\n",
    "            fn += 1\n",
    "\n",
    "    results = [vp, fp, vn, fn]\n",
    "    RFC_metric = {}\n",
    "    RFC_metric[\"acc\"] = (vp + vn) / (vp + vn + fp + fn)\n",
    "    RFC_metric[\"sens\"] = (vp) / (vp + fn)\n",
    "    RFC_metric[\"prec\"] = (vp) / (vp+fp)\n",
    "    \n",
    "    β = 0.5\n",
    "    RFC_metric[\"f1\"] = (1+β*β)*RFC_metric[\"prec\"]*RFC_metric[\"sens\"]/(β*β * RFC_metric[\"prec\"] + RFC_metric[\"sens\"])\n",
    "    RFC_metrics_calculated.append(RFC_metric)\n",
    "    display(results)\n",
    "    RFC_metrics.append(results)\n",
    "    "
   ]
  },
  {
   "cell_type": "code",
   "execution_count": 88,
   "id": "f80d39e7",
   "metadata": {},
   "outputs": [
    {
     "data": {
      "text/plain": [
       "[{'acc': 1.0, 'sens': 1.0, 'prec': 1.0, 'f1': 1.0},\n",
       " {'acc': 1.0, 'sens': 1.0, 'prec': 1.0, 'f1': 1.0},\n",
       " {'acc': 1.0, 'sens': 1.0, 'prec': 1.0, 'f1': 1.0},\n",
       " {'acc': 1.0, 'sens': 1.0, 'prec': 1.0, 'f1': 1.0},\n",
       " {'acc': 1.0, 'sens': 1.0, 'prec': 1.0, 'f1': 1.0}]"
      ]
     },
     "execution_count": 88,
     "metadata": {},
     "output_type": "execute_result"
    }
   ],
   "source": [
    "RFC_metrics_calculated"
   ]
  },
  {
   "cell_type": "markdown",
   "id": "32c6c7c0",
   "metadata": {},
   "source": [
    "### Train Linear Regression"
   ]
  },
  {
   "cell_type": "code",
   "execution_count": 89,
   "id": "d68b9c1b",
   "metadata": {},
   "outputs": [
    {
     "data": {
      "text/plain": [
       "[805, 87, 696, 36]"
      ]
     },
     "metadata": {},
     "output_type": "display_data"
    },
    {
     "data": {
      "text/plain": [
       "[802, 63, 720, 39]"
      ]
     },
     "metadata": {},
     "output_type": "display_data"
    },
    {
     "data": {
      "text/plain": [
       "[795, 51, 732, 46]"
      ]
     },
     "metadata": {},
     "output_type": "display_data"
    },
    {
     "data": {
      "text/plain": [
       "[799, 59, 724, 42]"
      ]
     },
     "metadata": {},
     "output_type": "display_data"
    },
    {
     "data": {
      "text/plain": [
       "[799, 71, 713, 45]"
      ]
     },
     "metadata": {},
     "output_type": "display_data"
    }
   ],
   "source": [
    "\n",
    "LR = LinearRegression()\n",
    "LR_metrics = []\n",
    "LR_metrics_calculated = []\n",
    "\n",
    "for i in range(0, K):\n",
    "    train_data = {}\n",
    "\n",
    "    #Cria dataset com todos os folds menos o i-ésimo, que será usado para teste\n",
    "    train_data = pd.concat(fold_dataframes)\n",
    "    train_data.drop(fold_dataframes[i].index)\n",
    "\n",
    "    #Pega dados de teste, remove a coluna target\n",
    "    features = train_data.columns[1:-1]\n",
    "    X = train_data.loc[:, features]\n",
    "    y = train_data.target\n",
    "\n",
    "    #Faz o fitting do algoritmo\n",
    "    LR.fit(X, y)\n",
    "\n",
    "    #Testa com dados de teste\n",
    "    test_data = fold_dataframes[i].loc[:, features]\n",
    "    predictions = LR.predict(test_data)\n",
    "    truth_val = fold_dataframes[i].loc[:, 'target'].tolist()\n",
    "\n",
    "    vp = 0\n",
    "    fp = 0\n",
    "    vn = 0\n",
    "    fn = 0\n",
    "    #Contabiliza verdadeiros positivos, verdadeiros negativos, falsos positivos e falsos negativos\n",
    "    for j in range(0, test_data.shape[0]):\n",
    "        if predictions[j] < 0.5 and 0 == truth_val[j]:\n",
    "            vp += 1\n",
    "        elif predictions[j] < 0.5 and 0 != truth_val[j]:\n",
    "            fp += 1\n",
    "        elif predictions[j] >= 0.5 and 1 == truth_val[j]:\n",
    "            vn += 1\n",
    "        else:\n",
    "            fn += 1\n",
    "\n",
    "    results = [vp, fp, vn, fn]\n",
    "    LR_metric = {}\n",
    "    LR_metric[\"acc\"] = (vp + vn) / (vp + vn + fp + fn)\n",
    "    LR_metric[\"sens\"] = (vp) / (vp + fn)\n",
    "    LR_metric[\"prec\"] = (vp) / (vp+fp)\n",
    "    \n",
    "    β = 0.5\n",
    "    LR_metric[\"f1\"] = (1+β*β)*LR_metric[\"prec\"]*LR_metric[\"sens\"]/(β*β * LR_metric[\"prec\"] + LR_metric[\"sens\"])\n",
    "    LR_metrics_calculated.append(LR_metric)\n",
    "    display(results)\n",
    "    LR_metrics.append(results)"
   ]
  },
  {
   "cell_type": "markdown",
   "id": "7624fc65",
   "metadata": {},
   "source": [
    "### Generating Graphs For Analysis"
   ]
  },
  {
   "cell_type": "code",
   "execution_count": 104,
   "id": "427e424e",
   "metadata": {
    "scrolled": true
   },
   "outputs": [
    {
     "data": {
      "image/png": "[encoded data removed]",
      "text/plain": [
       "<Figure size 432x288 with 1 Axes>"
      ]
     },
     "metadata": {
      "needs_background": "light"
     },
     "output_type": "display_data"
    },
    {
     "data": {
      "image/png": "[encoded data removed]",
      "text/plain": [
       "<Figure size 432x288 with 1 Axes>"
      ]
     },
     "metadata": {
      "needs_background": "light"
     },
     "output_type": "display_data"
    },
    {
     "data": {
      "image/png": "[encoded data removed]",
      "text/plain": [
       "<Figure size 432x288 with 1 Axes>"
      ]
     },
     "metadata": {
      "needs_background": "light"
     },
     "output_type": "display_data"
    },
    {
     "data": {
      "image/png": "[encoded data removed]",
      "text/plain": [
       "<Figure size 432x288 with 1 Axes>"
      ]
     },
     "metadata": {
      "needs_background": "light"
     },
     "output_type": "display_data"
    },
    {
     "data": {
      "text/html": [
       "<div>\n",
       "<style scoped>\n",
       "    .dataframe tbody tr th:only-of-type {\n",
       "        vertical-align: middle;\n",
       "    }\n",
       "\n",
       "    .dataframe tbody tr th {\n",
       "        vertical-align: top;\n",
       "    }\n",
       "\n",
       "    .dataframe thead th {\n",
       "        text-align: right;\n",
       "    }\n",
       "</style>\n",
       "<table border=\"1\" class=\"dataframe\">\n",
       "  <thead>\n",
       "    <tr style=\"text-align: right;\">\n",
       "      <th></th>\n",
       "      <th>Algorithm</th>\n",
       "      <th>Accuracy</th>\n",
       "      <th>Sensibility</th>\n",
       "      <th>Precision</th>\n",
       "      <th>F1-Measure</th>\n",
       "    </tr>\n",
       "  </thead>\n",
       "  <tbody>\n",
       "    <tr>\n",
       "      <th>0</th>\n",
       "      <td>K-Nearest Neighbours</td>\n",
       "      <td>0.004411</td>\n",
       "      <td>0.005520</td>\n",
       "      <td>0.003687</td>\n",
       "      <td>0.003812</td>\n",
       "    </tr>\n",
       "    <tr>\n",
       "      <th>1</th>\n",
       "      <td>Randomized Forests</td>\n",
       "      <td>0.000000</td>\n",
       "      <td>0.000000</td>\n",
       "      <td>0.000000</td>\n",
       "      <td>0.000000</td>\n",
       "    </tr>\n",
       "    <tr>\n",
       "      <th>2</th>\n",
       "      <td>Linear Regression</td>\n",
       "      <td>0.006097</td>\n",
       "      <td>0.004389</td>\n",
       "      <td>0.012683</td>\n",
       "      <td>0.009708</td>\n",
       "    </tr>\n",
       "  </tbody>\n",
       "</table>\n",
       "</div>"
      ],
      "text/plain": [
       "              Algorithm  Accuracy  Sensibility  Precision  F1-Measure\n",
       "0  K-Nearest Neighbours  0.004411     0.005520   0.003687    0.003812\n",
       "1    Randomized Forests  0.000000     0.000000   0.000000    0.000000\n",
       "2     Linear Regression  0.006097     0.004389   0.012683    0.009708"
      ]
     },
     "execution_count": 104,
     "metadata": {},
     "output_type": "execute_result"
    }
   ],
   "source": [
    "import pandas as pd\n",
    "import seaborn as sbs\n",
    "import matplotlib.pyplot as plt\n",
    "import math\n",
    "\n",
    "knn_accuracies = []\n",
    "knn_sensibility = []\n",
    "knn_precision = []\n",
    "knn_f1Measure = []\n",
    "knn_name = []\n",
    "randomized_accuracies = []\n",
    "randomized_sensibility = []\n",
    "randomized_precision = []\n",
    "randomized_name = []\n",
    "randomized_f1Measure =[]\n",
    "lr_accuracies = []\n",
    "lr_sensibility = []\n",
    "lr_precision=[]\n",
    "lr_f1Measure=[]\n",
    "lr_name = []\n",
    "\n",
    "### Generating Dataset for Graphs and Tables\n",
    "\n",
    "for result in KKN_metrics_calculated:\n",
    "    knn_accuracies.append(result[\"acc\"])\n",
    "    knn_sensibility.append(result[\"sens\"])\n",
    "    knn_precision.append(result[\"prec\"])\n",
    "    knn_f1Measure.append(result[\"f1\"])\n",
    "    knn_name.append('K-Nearest Neighbours')\n",
    "\n",
    "for result in RFC_metrics_calculated:\n",
    "    randomized_accuracies.append(result[\"acc\"])\n",
    "    randomized_sensibility.append(result[\"sens\"])\n",
    "    randomized_precision.append(result[\"prec\"])\n",
    "    randomized_f1Measure.append(result[\"f1\"])\n",
    "    randomized_name.append('Randomized Forests')\n",
    "\n",
    "for result in LR_metrics_calculated:\n",
    "    lr_accuracies.append(result[\"acc\"])\n",
    "    lr_sensibility.append(result[\"sens\"])\n",
    "    lr_precision.append(result[\"prec\"])\n",
    "    lr_f1Measure.append(result[\"f1\"])\n",
    "    lr_name.append('Linear Regression')\n",
    "    \n",
    "    \n",
    "### Generating Graphs for the Accuracy, Sensibility, Precision and F1-Measure of each algorithm\n",
    "    \n",
    "algorithms_accuracy_data = {'Algorithm':knn_name+randomized_name+lr_name,'Accuracy':knn_accuracies+randomized_accuracies+lr_accuracies}\n",
    "df = pd.DataFrame(algorithms_accuracy_data)\n",
    "sbs.boxplot(x=(df[\"Algorithm\"]), y=(df[\"Accuracy\"]))\n",
    "plt.ylim([0.92,1.01])\n",
    "plt.show()\n",
    "\n",
    "algorithms_sensibility_data = {'Algorithm':knn_name+randomized_name+lr_name,'Sensibility':knn_sensibility+randomized_sensibility+lr_sensibility}\n",
    "df = pd.DataFrame(algorithms_sensibility_data)\n",
    "sbs.boxplot(x=(df[\"Algorithm\"]), y=(df[\"Sensibility\"]))\n",
    "plt.ylim([0.92,1.01])\n",
    "plt.show()\n",
    "\n",
    "algorithms_precision_data = {'Algorithm':knn_name+randomized_name+lr_name,'Precision':knn_precision+randomized_precision+lr_precision}\n",
    "df = pd.DataFrame(algorithms_precision_data)\n",
    "sbs.boxplot(x=(df[\"Algorithm\"]), y=(df[\"Precision\"]))\n",
    "plt.ylim([0.92,1.01])\n",
    "plt.show()\n",
    "\n",
    "algorithms_f1_data = {'Algorithm':knn_name+randomized_name+lr_name,'F1-Measure':knn_f1Measure+randomized_f1Measure+lr_f1Measure}\n",
    "df = pd.DataFrame(algorithms_f1_data)\n",
    "sbs.boxplot(x=(df[\"Algorithm\"]), y=(df[\"F1-Measure\"]))\n",
    "plt.ylim([0.92,1.01])\n",
    "plt.show()\n",
    "\n",
    "# Generating Data for Standard Deviation Table\n",
    "\n",
    "def getStandardDeviation(listOfValues):\n",
    "    mediaOfValues = sum(listOfValues)/len(listOfValues)\n",
    "    sum_of_terms = 0\n",
    "    \n",
    "    for value in listOfValues:\n",
    "        sum_of_terms += (value - mediaOfValues) ** 2\n",
    "    \n",
    "    standard_deviation = math.sqrt(sum_of_terms/len(listOfValues))\n",
    "    return standard_deviation\n",
    "\n",
    "\n",
    "algorithms_names = ['K-Nearest Neighbours', 'Randomized Forests', 'Linear Regression']\n",
    "accuracies_standard_deviations = [getStandardDeviation(knn_accuracies), getStandardDeviation(randomized_accuracies), getStandardDeviation(lr_accuracies)]\n",
    "sensibility_standard_deviations = [getStandardDeviation(knn_sensibility), getStandardDeviation(randomized_sensibility), getStandardDeviation(lr_sensibility)]\n",
    "precision_standard_deviations = [getStandardDeviation(knn_precision), getStandardDeviation(randomized_precision), getStandardDeviation(lr_precision)]\n",
    "f1_measure_standard_deviations = [getStandardDeviation(knn_f1Measure), getStandardDeviation(randomized_f1Measure), getStandardDeviation(lr_f1Measure)]\n",
    "\n",
    "algorithms_standardDeviation_data = {'Algorithm':algorithms_names,'Accuracy':accuracies_standard_deviations, 'Sensibility':sensibility_standard_deviations, 'Precision':precision_standard_deviations, 'F1-Measure': f1_measure_standard_deviations}\n",
    "df = pd.DataFrame(algorithms_standardDeviation_data)\n",
    "df"
   ]
  },
  {
   "cell_type": "code",
   "execution_count": 91,
   "id": "a2a75474",
   "metadata": {},
   "outputs": [
    {
     "data": {
      "text/plain": [
       "[{'acc': 0.9242610837438424,\n",
       "  'sens': 0.9571938168846611,\n",
       "  'prec': 0.9024663677130045,\n",
       "  'f1': 0.9129054207303243},\n",
       " {'acc': 0.937192118226601,\n",
       "  'sens': 0.9536266349583828,\n",
       "  'prec': 0.9271676300578034,\n",
       "  'f1': 0.9323413159730296},\n",
       " {'acc': 0.9402709359605911,\n",
       "  'sens': 0.9453032104637337,\n",
       "  'prec': 0.9397163120567376,\n",
       "  'f1': 0.9408284023668638},\n",
       " {'acc': 0.937807881773399,\n",
       "  'sens': 0.9500594530321046,\n",
       "  'prec': 0.9312354312354313,\n",
       "  'f1': 0.9349403229581091},\n",
       " {'acc': 0.9287469287469288,\n",
       "  'sens': 0.9466824644549763,\n",
       "  'prec': 0.9183908045977012,\n",
       "  'f1': 0.923913043478261}]"
      ]
     },
     "execution_count": 91,
     "metadata": {},
     "output_type": "execute_result"
    }
   ],
   "source": [
    "LR_metrics_calculated"
   ]
  },
  {
   "cell_type": "markdown",
   "id": "81ef0f7b",
   "metadata": {},
   "source": [
    "## Testing basic functionalities of Python, SKLearn and Pandas"
   ]
  },
  {
   "cell_type": "code",
   "execution_count": 92,
   "id": "7b6d9f76",
   "metadata": {},
   "outputs": [
    {
     "ename": "NameError",
     "evalue": "name 'Encoder' is not defined",
     "output_type": "error",
     "traceback": [
      "\u001b[1;31m---------------------------------------------------------------------------\u001b[0m",
      "\u001b[1;31mNameError\u001b[0m                                 Traceback (most recent call last)",
      "Input \u001b[1;32mIn [92]\u001b[0m, in \u001b[0;36m<cell line: 1>\u001b[1;34m()\u001b[0m\n\u001b[1;32m----> 1\u001b[0m \u001b[43mEncoder\u001b[49m\u001b[38;5;241m.\u001b[39mfit(fold_dataframes[\u001b[38;5;241m0\u001b[39m])\n",
      "\u001b[1;31mNameError\u001b[0m: name 'Encoder' is not defined"
     ]
    }
   ],
   "source": [
    "Encoder.fit(fold_dataframes[0])"
   ]
  },
  {
   "cell_type": "code",
   "execution_count": null,
   "id": "db066008",
   "metadata": {},
   "outputs": [],
   "source": [
    "Encoder.categories_"
   ]
  },
  {
   "cell_type": "code",
   "execution_count": null,
   "id": "86ff48a7",
   "metadata": {},
   "outputs": [],
   "source": [
    "data"
   ]
  },
  {
   "cell_type": "code",
   "execution_count": null,
   "id": "a97f90e1",
   "metadata": {},
   "outputs": [],
   "source": [
    "data.sample(10).target"
   ]
  },
  {
   "cell_type": "code",
   "execution_count": null,
   "id": "04082852",
   "metadata": {},
   "outputs": [],
   "source": [
    "new_df = data[data['target'] == 0].sample(frac=0.005)"
   ]
  },
  {
   "cell_type": "code",
   "execution_count": 8,
   "id": "0fd55649",
   "metadata": {},
   "outputs": [],
   "source": [
    "new_df = data[data['target'] == 0].sample(frac=0.005)\n",
    "new_df_2 = new_df.sample(n=11)\n",
    "new_df = new_df.drop(new_df_2.index)"
   ]
  },
  {
   "cell_type": "code",
   "execution_count": 10,
   "id": "3e18378c",
   "metadata": {},
   "outputs": [
    {
     "data": {
      "text/plain": [
       "11"
      ]
     },
     "execution_count": 10,
     "metadata": {},
     "output_type": "execute_result"
    }
   ],
   "source": [
    "new_df_2.shape[0]"
   ]
  },
  {
   "cell_type": "code",
   "execution_count": 59,
   "id": "6f8f010f",
   "metadata": {},
   "outputs": [
    {
     "data": {
      "text/html": [
       "<div>\n",
       "<style scoped>\n",
       "    .dataframe tbody tr th:only-of-type {\n",
       "        vertical-align: middle;\n",
       "    }\n",
       "\n",
       "    .dataframe tbody tr th {\n",
       "        vertical-align: top;\n",
       "    }\n",
       "\n",
       "    .dataframe thead th {\n",
       "        text-align: right;\n",
       "    }\n",
       "</style>\n",
       "<table border=\"1\" class=\"dataframe\">\n",
       "  <thead>\n",
       "    <tr style=\"text-align: right;\">\n",
       "      <th></th>\n",
       "      <th>cap-shape</th>\n",
       "      <th>cap-surface</th>\n",
       "      <th>cap-color</th>\n",
       "      <th>bruises?</th>\n",
       "      <th>odor</th>\n",
       "      <th>gill-attachment</th>\n",
       "      <th>gill-spacing</th>\n",
       "      <th>gill-size</th>\n",
       "      <th>gill-color</th>\n",
       "      <th>stalk-shape</th>\n",
       "      <th>...</th>\n",
       "      <th>stalk-color-above-ring</th>\n",
       "      <th>stalk-color-below-ring</th>\n",
       "      <th>veil-type</th>\n",
       "      <th>veil-color</th>\n",
       "      <th>ring-number</th>\n",
       "      <th>ring-type</th>\n",
       "      <th>spore-print-color</th>\n",
       "      <th>population</th>\n",
       "      <th>habitat</th>\n",
       "      <th>target</th>\n",
       "    </tr>\n",
       "  </thead>\n",
       "  <tbody>\n",
       "    <tr>\n",
       "      <th>1725</th>\n",
       "      <td>2</td>\n",
       "      <td>2</td>\n",
       "      <td>9</td>\n",
       "      <td>0</td>\n",
       "      <td>0</td>\n",
       "      <td>1</td>\n",
       "      <td>0</td>\n",
       "      <td>0</td>\n",
       "      <td>4</td>\n",
       "      <td>0</td>\n",
       "      <td>...</td>\n",
       "      <td>7</td>\n",
       "      <td>7</td>\n",
       "      <td>0</td>\n",
       "      <td>2</td>\n",
       "      <td>1</td>\n",
       "      <td>4</td>\n",
       "      <td>0</td>\n",
       "      <td>2</td>\n",
       "      <td>2</td>\n",
       "      <td>0</td>\n",
       "    </tr>\n",
       "    <tr>\n",
       "      <th>3705</th>\n",
       "      <td>2</td>\n",
       "      <td>2</td>\n",
       "      <td>7</td>\n",
       "      <td>0</td>\n",
       "      <td>6</td>\n",
       "      <td>1</td>\n",
       "      <td>0</td>\n",
       "      <td>0</td>\n",
       "      <td>10</td>\n",
       "      <td>1</td>\n",
       "      <td>...</td>\n",
       "      <td>5</td>\n",
       "      <td>3</td>\n",
       "      <td>0</td>\n",
       "      <td>2</td>\n",
       "      <td>1</td>\n",
       "      <td>4</td>\n",
       "      <td>0</td>\n",
       "      <td>5</td>\n",
       "      <td>6</td>\n",
       "      <td>0</td>\n",
       "    </tr>\n",
       "    <tr>\n",
       "      <th>7180</th>\n",
       "      <td>2</td>\n",
       "      <td>2</td>\n",
       "      <td>8</td>\n",
       "      <td>0</td>\n",
       "      <td>1</td>\n",
       "      <td>1</td>\n",
       "      <td>0</td>\n",
       "      <td>0</td>\n",
       "      <td>4</td>\n",
       "      <td>0</td>\n",
       "      <td>...</td>\n",
       "      <td>7</td>\n",
       "      <td>7</td>\n",
       "      <td>0</td>\n",
       "      <td>2</td>\n",
       "      <td>1</td>\n",
       "      <td>4</td>\n",
       "      <td>0</td>\n",
       "      <td>2</td>\n",
       "      <td>0</td>\n",
       "      <td>0</td>\n",
       "    </tr>\n",
       "    <tr>\n",
       "      <th>624</th>\n",
       "      <td>2</td>\n",
       "      <td>2</td>\n",
       "      <td>0</td>\n",
       "      <td>0</td>\n",
       "      <td>6</td>\n",
       "      <td>1</td>\n",
       "      <td>0</td>\n",
       "      <td>0</td>\n",
       "      <td>8</td>\n",
       "      <td>1</td>\n",
       "      <td>...</td>\n",
       "      <td>7</td>\n",
       "      <td>5</td>\n",
       "      <td>0</td>\n",
       "      <td>2</td>\n",
       "      <td>1</td>\n",
       "      <td>4</td>\n",
       "      <td>0</td>\n",
       "      <td>4</td>\n",
       "      <td>6</td>\n",
       "      <td>0</td>\n",
       "    </tr>\n",
       "    <tr>\n",
       "      <th>840</th>\n",
       "      <td>2</td>\n",
       "      <td>3</td>\n",
       "      <td>8</td>\n",
       "      <td>0</td>\n",
       "      <td>1</td>\n",
       "      <td>1</td>\n",
       "      <td>0</td>\n",
       "      <td>0</td>\n",
       "      <td>4</td>\n",
       "      <td>0</td>\n",
       "      <td>...</td>\n",
       "      <td>7</td>\n",
       "      <td>7</td>\n",
       "      <td>0</td>\n",
       "      <td>2</td>\n",
       "      <td>1</td>\n",
       "      <td>4</td>\n",
       "      <td>0</td>\n",
       "      <td>3</td>\n",
       "      <td>0</td>\n",
       "      <td>0</td>\n",
       "    </tr>\n",
       "    <tr>\n",
       "      <th>1398</th>\n",
       "      <td>2</td>\n",
       "      <td>2</td>\n",
       "      <td>0</td>\n",
       "      <td>0</td>\n",
       "      <td>6</td>\n",
       "      <td>1</td>\n",
       "      <td>0</td>\n",
       "      <td>0</td>\n",
       "      <td>8</td>\n",
       "      <td>1</td>\n",
       "      <td>...</td>\n",
       "      <td>3</td>\n",
       "      <td>5</td>\n",
       "      <td>0</td>\n",
       "      <td>2</td>\n",
       "      <td>1</td>\n",
       "      <td>4</td>\n",
       "      <td>1</td>\n",
       "      <td>4</td>\n",
       "      <td>6</td>\n",
       "      <td>0</td>\n",
       "    </tr>\n",
       "    <tr>\n",
       "      <th>6412</th>\n",
       "      <td>3</td>\n",
       "      <td>2</td>\n",
       "      <td>0</td>\n",
       "      <td>0</td>\n",
       "      <td>1</td>\n",
       "      <td>1</td>\n",
       "      <td>0</td>\n",
       "      <td>0</td>\n",
       "      <td>10</td>\n",
       "      <td>0</td>\n",
       "      <td>...</td>\n",
       "      <td>7</td>\n",
       "      <td>7</td>\n",
       "      <td>0</td>\n",
       "      <td>2</td>\n",
       "      <td>1</td>\n",
       "      <td>4</td>\n",
       "      <td>1</td>\n",
       "      <td>3</td>\n",
       "      <td>3</td>\n",
       "      <td>0</td>\n",
       "    </tr>\n",
       "    <tr>\n",
       "      <th>7367</th>\n",
       "      <td>0</td>\n",
       "      <td>3</td>\n",
       "      <td>9</td>\n",
       "      <td>0</td>\n",
       "      <td>1</td>\n",
       "      <td>1</td>\n",
       "      <td>0</td>\n",
       "      <td>0</td>\n",
       "      <td>0</td>\n",
       "      <td>0</td>\n",
       "      <td>...</td>\n",
       "      <td>7</td>\n",
       "      <td>7</td>\n",
       "      <td>0</td>\n",
       "      <td>2</td>\n",
       "      <td>1</td>\n",
       "      <td>4</td>\n",
       "      <td>1</td>\n",
       "      <td>2</td>\n",
       "      <td>2</td>\n",
       "      <td>0</td>\n",
       "    </tr>\n",
       "    <tr>\n",
       "      <th>3840</th>\n",
       "      <td>0</td>\n",
       "      <td>3</td>\n",
       "      <td>8</td>\n",
       "      <td>0</td>\n",
       "      <td>0</td>\n",
       "      <td>1</td>\n",
       "      <td>0</td>\n",
       "      <td>0</td>\n",
       "      <td>4</td>\n",
       "      <td>0</td>\n",
       "      <td>...</td>\n",
       "      <td>7</td>\n",
       "      <td>7</td>\n",
       "      <td>0</td>\n",
       "      <td>2</td>\n",
       "      <td>1</td>\n",
       "      <td>4</td>\n",
       "      <td>1</td>\n",
       "      <td>2</td>\n",
       "      <td>0</td>\n",
       "      <td>0</td>\n",
       "    </tr>\n",
       "    <tr>\n",
       "      <th>186</th>\n",
       "      <td>4</td>\n",
       "      <td>0</td>\n",
       "      <td>3</td>\n",
       "      <td>1</td>\n",
       "      <td>6</td>\n",
       "      <td>1</td>\n",
       "      <td>1</td>\n",
       "      <td>0</td>\n",
       "      <td>10</td>\n",
       "      <td>0</td>\n",
       "      <td>...</td>\n",
       "      <td>7</td>\n",
       "      <td>7</td>\n",
       "      <td>0</td>\n",
       "      <td>2</td>\n",
       "      <td>2</td>\n",
       "      <td>4</td>\n",
       "      <td>7</td>\n",
       "      <td>2</td>\n",
       "      <td>0</td>\n",
       "      <td>0</td>\n",
       "    </tr>\n",
       "    <tr>\n",
       "      <th>1387</th>\n",
       "      <td>2</td>\n",
       "      <td>3</td>\n",
       "      <td>0</td>\n",
       "      <td>1</td>\n",
       "      <td>6</td>\n",
       "      <td>0</td>\n",
       "      <td>0</td>\n",
       "      <td>0</td>\n",
       "      <td>6</td>\n",
       "      <td>0</td>\n",
       "      <td>...</td>\n",
       "      <td>4</td>\n",
       "      <td>4</td>\n",
       "      <td>0</td>\n",
       "      <td>0</td>\n",
       "      <td>1</td>\n",
       "      <td>4</td>\n",
       "      <td>2</td>\n",
       "      <td>1</td>\n",
       "      <td>1</td>\n",
       "      <td>0</td>\n",
       "    </tr>\n",
       "  </tbody>\n",
       "</table>\n",
       "<p>11 rows × 23 columns</p>\n",
       "</div>"
      ],
      "text/plain": [
       "      cap-shape  cap-surface  cap-color  bruises?  odor  gill-attachment  \\\n",
       "1725          2            2          9         0     0                1   \n",
       "3705          2            2          7         0     6                1   \n",
       "7180          2            2          8         0     1                1   \n",
       "624           2            2          0         0     6                1   \n",
       "840           2            3          8         0     1                1   \n",
       "1398          2            2          0         0     6                1   \n",
       "6412          3            2          0         0     1                1   \n",
       "7367          0            3          9         0     1                1   \n",
       "3840          0            3          8         0     0                1   \n",
       "186           4            0          3         1     6                1   \n",
       "1387          2            3          0         1     6                0   \n",
       "\n",
       "      gill-spacing  gill-size  gill-color  stalk-shape  ...  \\\n",
       "1725             0          0           4            0  ...   \n",
       "3705             0          0          10            1  ...   \n",
       "7180             0          0           4            0  ...   \n",
       "624              0          0           8            1  ...   \n",
       "840              0          0           4            0  ...   \n",
       "1398             0          0           8            1  ...   \n",
       "6412             0          0          10            0  ...   \n",
       "7367             0          0           0            0  ...   \n",
       "3840             0          0           4            0  ...   \n",
       "186              1          0          10            0  ...   \n",
       "1387             0          0           6            0  ...   \n",
       "\n",
       "      stalk-color-above-ring  stalk-color-below-ring  veil-type  veil-color  \\\n",
       "1725                       7                       7          0           2   \n",
       "3705                       5                       3          0           2   \n",
       "7180                       7                       7          0           2   \n",
       "624                        7                       5          0           2   \n",
       "840                        7                       7          0           2   \n",
       "1398                       3                       5          0           2   \n",
       "6412                       7                       7          0           2   \n",
       "7367                       7                       7          0           2   \n",
       "3840                       7                       7          0           2   \n",
       "186                        7                       7          0           2   \n",
       "1387                       4                       4          0           0   \n",
       "\n",
       "      ring-number  ring-type  spore-print-color  population  habitat  target  \n",
       "1725            1          4                  0           2        2       0  \n",
       "3705            1          4                  0           5        6       0  \n",
       "7180            1          4                  0           2        0       0  \n",
       "624             1          4                  0           4        6       0  \n",
       "840             1          4                  0           3        0       0  \n",
       "1398            1          4                  1           4        6       0  \n",
       "6412            1          4                  1           3        3       0  \n",
       "7367            1          4                  1           2        2       0  \n",
       "3840            1          4                  1           2        0       0  \n",
       "186             2          4                  7           2        0       0  \n",
       "1387            1          4                  2           1        1       0  \n",
       "\n",
       "[11 rows x 23 columns]"
      ]
     },
     "execution_count": 59,
     "metadata": {},
     "output_type": "execute_result"
    }
   ],
   "source": [
    "new_df_2"
   ]
  },
  {
   "cell_type": "code",
   "execution_count": null,
   "id": "f4c5812b",
   "metadata": {},
   "outputs": [],
   "source": []
  }
 ],
 "metadata": {
  "kernelspec": {
   "display_name": "Python 3 (ipykernel)",
   "language": "python",
   "name": "python3"
  },
  "language_info": {
   "codemirror_mode": {
    "name": "ipython",
    "version": 3
   },
   "file_extension": ".py",
   "mimetype": "text/x-python",
   "name": "python",
   "nbconvert_exporter": "python",
   "pygments_lexer": "ipython3",
   "version": "3.9.12"
  }
 },
 "nbformat": 4,
 "nbformat_minor": 5
}
