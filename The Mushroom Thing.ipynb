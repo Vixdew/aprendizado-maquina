{
 "cells": [
  {
   "cell_type": "code",
   "execution_count": 26,
   "id": "f577751c",
   "metadata": {},
   "outputs": [],
   "source": [
    "import sklearn\n",
    "import pandas as pd\n",
    "import random\n",
    "from sklearn import datasets\n",
    "import math\n",
    "\n",
    "from sklearn.neighbors import KNeighborsClassifier\n",
    "from sklearn.ensemble import RandomForestClassifier\n",
    "from sklearn.linear_model import LinearRegression\n",
    "from sklearn.preprocessing import OneHotEncoder"
   ]
  },
  {
   "cell_type": "markdown",
   "id": "ca8cb7a0",
   "metadata": {},
   "source": [
    "## K-fold cross validation"
   ]
  },
  {
   "cell_type": "code",
   "execution_count": 27,
   "id": "59bc7013",
   "metadata": {},
   "outputs": [],
   "source": [
    "data = pd.read_csv('mushroom.tsv', sep='\\t')"
   ]
  },
  {
   "cell_type": "code",
   "execution_count": 28,
   "id": "24615794",
   "metadata": {},
   "outputs": [],
   "source": [
    "#Create K folds\n",
    "K = 5\n",
    "number_of_entries = data.shape[0]\n",
    "number_of_entries_edible = data[data['target'] == 0].shape[0]\n",
    "number_of_entries_poisonous = data[data['target'] == 1].shape[0]\n",
    "\n",
    "estrat = number_of_entries_poisonous / number_of_entries\n",
    "\n",
    "instancias_por_fold = number_of_entries / K\n",
    "instancias_por_fold_poison = math.floor(number_of_entries_poisonous / K)\n",
    "instancias_por_fold_edible = math.floor(number_of_entries_edible / K)\n",
    "\n",
    "fold_dataframes = []\n",
    "\n",
    "for i in range(1,K):\n",
    "    fold_df_poison = data[data['target'] == 1].sample(instancias_por_fold_poison)\n",
    "    fold_df_edible = data[data['target'] == 0].sample(instancias_por_fold_edible)\n",
    "    fold_df = pd.concat([fold_df_poison, fold_df_edible])\n",
    "    data = data.drop(fold_df.index)\n",
    "    fold_dataframes.append(fold_df)\n",
    "    \n",
    "fold_dataframes.append(data)"
   ]
  },
  {
   "cell_type": "code",
   "execution_count": 29,
   "id": "994f15d8",
   "metadata": {
    "scrolled": true
   },
   "outputs": [],
   "source": [
    "a = pd.concat(fold_dataframes)"
   ]
  },
  {
   "cell_type": "code",
   "execution_count": 30,
   "id": "d350dc08",
   "metadata": {},
   "outputs": [
    {
     "data": {
      "text/plain": [
       "Int64Index([5890, 3331, 4755, 4790,  394, 7714, 3037, 2715,  775, 1337,\n",
       "            ...\n",
       "            6412, 5124,  409,  352, 1838, 3043, 3286, 7397, 1027, 4946],\n",
       "           dtype='int64', length=1624)"
      ]
     },
     "metadata": {},
     "output_type": "display_data"
    }
   ],
   "source": [
    "display(fold_dataframes[0].index)"
   ]
  },
  {
   "cell_type": "markdown",
   "id": "f1f86c46",
   "metadata": {},
   "source": [
    "### Train KNN"
   ]
  },
  {
   "cell_type": "code",
   "execution_count": 58,
   "id": "17a4e8a0",
   "metadata": {},
   "outputs": [
    {
     "data": {
      "text/plain": [
       "[826, 8, 775, 15]"
      ]
     },
     "metadata": {},
     "output_type": "display_data"
    },
    {
     "data": {
      "text/plain": [
       "[831, 8, 775, 10]"
      ]
     },
     "metadata": {},
     "output_type": "display_data"
    },
    {
     "data": {
      "text/plain": [
       "[831, 4, 779, 10]"
      ]
     },
     "metadata": {},
     "output_type": "display_data"
    },
    {
     "data": {
      "text/plain": [
       "[827, 8, 775, 14]"
      ]
     },
     "metadata": {},
     "output_type": "display_data"
    },
    {
     "data": {
      "text/plain": [
       "[837, 12, 772, 7]"
      ]
     },
     "metadata": {},
     "output_type": "display_data"
    },
    {
     "data": {
      "image/png": "[encoded data removed]",
      "text/plain": [
       "<Figure size 432x288 with 1 Axes>"
      ]
     },
     "metadata": {
      "needs_background": "light"
     },
     "output_type": "display_data"
    }
   ],
   "source": [
    "KNN = KNeighborsClassifier(n_neighbors=51)\n",
    "KNN_metrics = []\n",
    "KKN_metrics_calculated = []\n",
    "\n",
    "for i in range(0, K):\n",
    "    train_data = {}\n",
    "\n",
    "    #Cria dataset com todos os folds menos o i-ésimo, que será usado para teste\n",
    "    train_data = pd.concat(fold_dataframes)\n",
    "    train_data.drop(fold_dataframes[i].index)\n",
    "\n",
    "    #Pega dados de teste, remove a coluna target\n",
    "    features = train_data.columns[1:-1]\n",
    "    X = train_data.loc[:, features]\n",
    "    y = train_data.target\n",
    "\n",
    "    #Faz o fitting do algoritmo\n",
    "    KNN.fit(X, y)\n",
    "\n",
    "    #Testa com dados de teste\n",
    "    test_data = fold_dataframes[i].loc[:, features]\n",
    "    predictions = KNN.predict(test_data)\n",
    "    truth_val = fold_dataframes[i].loc[:, 'target'].tolist()\n",
    "\n",
    "    vp = 0\n",
    "    fp = 0\n",
    "    vn = 0\n",
    "    fn = 0\n",
    "    #Contabiliza verdadeiros positivos, verdadeiros negativos, falsos positivos e falsos negativos\n",
    "    for j in range(0, test_data.shape[0]):\n",
    "        if predictions[j] == 0 and predictions[j] == truth_val[j]:\n",
    "            vp += 1\n",
    "        elif predictions[j] == 0 and predictions[j] != truth_val[j]:\n",
    "            fp += 1\n",
    "        elif predictions[j] == 1 and predictions[j] == truth_val[j]:\n",
    "            vn += 1\n",
    "        else:\n",
    "            fn += 1\n",
    "\n",
    "    results = [vp, fp, vn, fn]\n",
    "    KNN_metric = {}\n",
    "    KNN_metric[\"acc\"] = (vp + vn) / (vp + vn + fp + fn)\n",
    "    KNN_metric[\"sens\"] = (vp) / (vp + fn)\n",
    "    KNN_metric[\"prec\"] = (vp) / (vp+fp)\n",
    "    \n",
    "    β = 0.5\n",
    "    KNN_metric[\"f1\"] = (1+β*β)*KNN_metric[\"prec\"]*KNN_metric[\"sens\"]/(β*β * KNN_metric[\"prec\"] + KNN_metric[\"sens\"])\n",
    "    \n",
    "    KKN_metrics_calculated.append(KNN_metric)\n",
    "    display(results)\n",
    "    KNN_metrics.append(results)\n",
    "\n",
    "\n",
    "import pandas as pd\n",
    "import seaborn as sbs\n",
    "import matplotlib.pyplot as plt\n",
    "\n",
    "knn_accuracies = []\n",
    "knn_name = []\n",
    "for result in KKN_metrics_calculated:\n",
    "    knn_accuracies.append(result[\"acc\"])\n",
    "    knn_name.append('KNN')\n",
    "\n",
    "knn_accuracy_data = {'Algorythm':knn_name,'accuracy':knn_accuracies}\n",
    "df = pd.DataFrame(knn_accuracy_data)\n",
    "sbs.boxplot(y=(df[\"Algorythm\"]), x=(df[\"accuracy\"]))\n",
    "plt.show()"
   ]
  },
  {
   "cell_type": "code",
   "execution_count": 33,
   "id": "c21267bf",
   "metadata": {},
   "outputs": [
    {
     "data": {
      "text/plain": [
       "[{'acc': 0.9858374384236454,\n",
       "  'sens': 0.9821640903686087,\n",
       "  'prec': 0.9904076738609112,\n",
       "  'f1': 0.988747905195116},\n",
       " {'acc': 0.9889162561576355,\n",
       "  'sens': 0.9881093935790726,\n",
       "  'prec': 0.9904648390941597,\n",
       "  'f1': 0.9899928520371695},\n",
       " {'acc': 0.9913793103448276,\n",
       "  'sens': 0.9881093935790726,\n",
       "  'prec': 0.9952095808383233,\n",
       "  'f1': 0.9937813920114805},\n",
       " {'acc': 0.9864532019704434,\n",
       "  'sens': 0.9833531510107015,\n",
       "  'prec': 0.9904191616766467,\n",
       "  'f1': 0.9889978474049269},\n",
       " {'acc': 0.9883292383292384,\n",
       "  'sens': 0.9917061611374408,\n",
       "  'prec': 0.9858657243816255,\n",
       "  'f1': 0.9870283018867924}]"
      ]
     },
     "execution_count": 33,
     "metadata": {},
     "output_type": "execute_result"
    }
   ],
   "source": [
    "KKN_metrics_calculated"
   ]
  },
  {
   "cell_type": "markdown",
   "id": "597c8548",
   "metadata": {},
   "source": [
    "### Train Randomized Forest"
   ]
  },
  {
   "cell_type": "code",
   "execution_count": 59,
   "id": "07d504fa",
   "metadata": {},
   "outputs": [
    {
     "data": {
      "text/plain": [
       "[841, 0, 783, 0]"
      ]
     },
     "metadata": {},
     "output_type": "display_data"
    },
    {
     "data": {
      "text/plain": [
       "[841, 0, 783, 0]"
      ]
     },
     "metadata": {},
     "output_type": "display_data"
    },
    {
     "data": {
      "text/plain": [
       "[841, 0, 783, 0]"
      ]
     },
     "metadata": {},
     "output_type": "display_data"
    },
    {
     "data": {
      "text/plain": [
       "[841, 0, 783, 0]"
      ]
     },
     "metadata": {},
     "output_type": "display_data"
    },
    {
     "data": {
      "text/plain": [
       "[844, 0, 784, 0]"
      ]
     },
     "metadata": {},
     "output_type": "display_data"
    },
    {
     "data": {
      "image/png": "[encoded data removed]",
      "text/plain": [
       "<Figure size 432x288 with 1 Axes>"
      ]
     },
     "metadata": {
      "needs_background": "light"
     },
     "output_type": "display_data"
    }
   ],
   "source": [
    "RFC = RandomForestClassifier(max_depth=10, random_state=0)\n",
    "RFC_metrics = []\n",
    "RFC_metrics_calculated = []\n",
    "\n",
    "for i in range(0, K):\n",
    "    train_data = {}\n",
    "\n",
    "    #Cria dataset com todos os folds menos o i-ésimo, que será usado para teste\n",
    "    train_data = pd.concat(fold_dataframes)\n",
    "    train_data.drop(fold_dataframes[i].index)\n",
    "\n",
    "    #Pega dados de teste, remove a coluna target\n",
    "    features = train_data.columns[1:-1]\n",
    "    X = train_data.loc[:, features]\n",
    "    y = train_data.target\n",
    "\n",
    "    #Faz o fitting do algoritmo\n",
    "    RFC.fit(X, y)\n",
    "\n",
    "    #Testa com dados de teste\n",
    "    test_data = fold_dataframes[i].loc[:, features]\n",
    "    predictions = RFC.predict(test_data)\n",
    "    truth_val = fold_dataframes[i].loc[:, 'target'].tolist()\n",
    "\n",
    "    vp = 0\n",
    "    fp = 0\n",
    "    vn = 0\n",
    "    fn = 0\n",
    "    #Contabiliza verdadeiros positivos, verdadeiros negativos, falsos positivos e falsos negativos\n",
    "    for j in range(0, test_data.shape[0]):\n",
    "        if predictions[j] == 0 and predictions[j] == truth_val[j]:\n",
    "            vp += 1\n",
    "        elif predictions[j] == 0 and predictions[j] != truth_val[j]:\n",
    "            fp += 1\n",
    "        elif predictions[j] == 1 and predictions[j] == truth_val[j]:\n",
    "            vn += 1\n",
    "        else:\n",
    "            fn += 1\n",
    "\n",
    "    results = [vp, fp, vn, fn]\n",
    "    RFC_metric = {}\n",
    "    RFC_metric[\"acc\"] = (vp + vn) / (vp + vn + fp + fn)\n",
    "    RFC_metric[\"sens\"] = (vp) / (vp + fn)\n",
    "    RFC_metric[\"prec\"] = (vp) / (vp+fp)\n",
    "    \n",
    "    β = 0.5\n",
    "    RFC_metric[\"f1\"] = (1+β*β)*RFC_metric[\"prec\"]*RFC_metric[\"sens\"]/(β*β * RFC_metric[\"prec\"] + RFC_metric[\"sens\"])\n",
    "    RFC_metrics_calculated.append(RFC_metric)\n",
    "    display(results)\n",
    "    RFC_metrics.append(results)\n",
    "    "
   ]
  },
  {
   "cell_type": "code",
   "execution_count": 35,
   "id": "f80d39e7",
   "metadata": {},
   "outputs": [
    {
     "data": {
      "text/plain": [
       "[{'acc': 1.0, 'sens': 1.0, 'prec': 1.0, 'f1': 1.0},\n",
       " {'acc': 1.0, 'sens': 1.0, 'prec': 1.0, 'f1': 1.0},\n",
       " {'acc': 1.0, 'sens': 1.0, 'prec': 1.0, 'f1': 1.0},\n",
       " {'acc': 1.0, 'sens': 1.0, 'prec': 1.0, 'f1': 1.0},\n",
       " {'acc': 1.0, 'sens': 1.0, 'prec': 1.0, 'f1': 1.0}]"
      ]
     },
     "execution_count": 35,
     "metadata": {},
     "output_type": "execute_result"
    }
   ],
   "source": [
    "RFC_metrics_calculated"
   ]
  },
  {
   "cell_type": "markdown",
   "id": "32c6c7c0",
   "metadata": {},
   "source": [
    "### Train Linear Regression"
   ]
  },
  {
   "cell_type": "code",
   "execution_count": 60,
   "id": "d68b9c1b",
   "metadata": {},
   "outputs": [
    {
     "data": {
      "text/plain": [
       "[793, 63, 720, 48]"
      ]
     },
     "metadata": {},
     "output_type": "display_data"
    },
    {
     "data": {
      "text/plain": [
       "[791, 61, 722, 50]"
      ]
     },
     "metadata": {},
     "output_type": "display_data"
    },
    {
     "data": {
      "text/plain": [
       "[810, 65, 718, 31]"
      ]
     },
     "metadata": {},
     "output_type": "display_data"
    },
    {
     "data": {
      "text/plain": [
       "[798, 73, 710, 43]"
      ]
     },
     "metadata": {},
     "output_type": "display_data"
    },
    {
     "data": {
      "text/plain": [
       "[808, 69, 715, 36]"
      ]
     },
     "metadata": {},
     "output_type": "display_data"
    },
    {
     "data": {
      "image/png": "[encoded data removed]",
      "text/plain": [
       "<Figure size 432x288 with 1 Axes>"
      ]
     },
     "metadata": {
      "needs_background": "light"
     },
     "output_type": "display_data"
    }
   ],
   "source": [
    "\n",
    "LR = LinearRegression()\n",
    "LR_metrics = []\n",
    "LR_metrics_calculated = []\n",
    "\n",
    "for i in range(0, K):\n",
    "    train_data = {}\n",
    "\n",
    "    #Cria dataset com todos os folds menos o i-ésimo, que será usado para teste\n",
    "    train_data = pd.concat(fold_dataframes)\n",
    "    train_data.drop(fold_dataframes[i].index)\n",
    "\n",
    "    #Pega dados de teste, remove a coluna target\n",
    "    features = train_data.columns[1:-1]\n",
    "    X = train_data.loc[:, features]\n",
    "    y = train_data.target\n",
    "\n",
    "    #Faz o fitting do algoritmo\n",
    "    LR.fit(X, y)\n",
    "\n",
    "    #Testa com dados de teste\n",
    "    test_data = fold_dataframes[i].loc[:, features]\n",
    "    predictions = LR.predict(test_data)\n",
    "    truth_val = fold_dataframes[i].loc[:, 'target'].tolist()\n",
    "\n",
    "    vp = 0\n",
    "    fp = 0\n",
    "    vn = 0\n",
    "    fn = 0\n",
    "    #Contabiliza verdadeiros positivos, verdadeiros negativos, falsos positivos e falsos negativos\n",
    "    for j in range(0, test_data.shape[0]):\n",
    "        if predictions[j] < 0.5 and 0 == truth_val[j]:\n",
    "            vp += 1\n",
    "        elif predictions[j] < 0.5 and 0 != truth_val[j]:\n",
    "            fp += 1\n",
    "        elif predictions[j] >= 0.5 and 1 == truth_val[j]:\n",
    "            vn += 1\n",
    "        else:\n",
    "            fn += 1\n",
    "\n",
    "    results = [vp, fp, vn, fn]\n",
    "    LR_metric = {}\n",
    "    LR_metric[\"acc\"] = (vp + vn) / (vp + vn + fp + fn)\n",
    "    LR_metric[\"sens\"] = (vp) / (vp + fn)\n",
    "    LR_metric[\"prec\"] = (vp) / (vp+fp)\n",
    "    \n",
    "    β = 0.5\n",
    "    LR_metric[\"f1\"] = (1+β*β)*LR_metric[\"prec\"]*LR_metric[\"sens\"]/(β*β * LR_metric[\"prec\"] + LR_metric[\"sens\"])\n",
    "    LR_metrics_calculated.append(LR_metric)\n",
    "    display(results)\n",
    "    LR_metrics.append(results)"
   ]
  },
  {
   "cell_type": "markdown",
   "id": "7624fc65",
   "metadata": {},
   "source": [
    "### Generating Graphs For Analysis"
   ]
  },
  {
   "cell_type": "code",
   "execution_count": 79,
   "id": "427e424e",
   "metadata": {
    "scrolled": true
   },
   "outputs": [
    {
     "data": {
      "image/png": "[encoded data removed]",
      "text/plain": [
       "<Figure size 432x288 with 1 Axes>"
      ]
     },
     "metadata": {
      "needs_background": "light"
     },
     "output_type": "display_data"
    },
    {
     "data": {
      "text/html": [
       "<div>\n",
       "<style scoped>\n",
       "    .dataframe tbody tr th:only-of-type {\n",
       "        vertical-align: middle;\n",
       "    }\n",
       "\n",
       "    .dataframe tbody tr th {\n",
       "        vertical-align: top;\n",
       "    }\n",
       "\n",
       "    .dataframe thead th {\n",
       "        text-align: right;\n",
       "    }\n",
       "</style>\n",
       "<table border=\"1\" class=\"dataframe\">\n",
       "  <thead>\n",
       "    <tr style=\"text-align: right;\">\n",
       "      <th></th>\n",
       "      <th>Algorithm</th>\n",
       "      <th>Accuracy</th>\n",
       "    </tr>\n",
       "  </thead>\n",
       "  <tbody>\n",
       "    <tr>\n",
       "      <th>0</th>\n",
       "      <td>K-Nearest Neighbours</td>\n",
       "      <td>0.985837</td>\n",
       "    </tr>\n",
       "    <tr>\n",
       "      <th>1</th>\n",
       "      <td>K-Nearest Neighbours</td>\n",
       "      <td>0.988916</td>\n",
       "    </tr>\n",
       "    <tr>\n",
       "      <th>2</th>\n",
       "      <td>K-Nearest Neighbours</td>\n",
       "      <td>0.991379</td>\n",
       "    </tr>\n",
       "    <tr>\n",
       "      <th>3</th>\n",
       "      <td>K-Nearest Neighbours</td>\n",
       "      <td>0.986453</td>\n",
       "    </tr>\n",
       "    <tr>\n",
       "      <th>4</th>\n",
       "      <td>K-Nearest Neighbours</td>\n",
       "      <td>0.988329</td>\n",
       "    </tr>\n",
       "    <tr>\n",
       "      <th>5</th>\n",
       "      <td>Randomized Forests</td>\n",
       "      <td>1.000000</td>\n",
       "    </tr>\n",
       "    <tr>\n",
       "      <th>6</th>\n",
       "      <td>Randomized Forests</td>\n",
       "      <td>1.000000</td>\n",
       "    </tr>\n",
       "    <tr>\n",
       "      <th>7</th>\n",
       "      <td>Randomized Forests</td>\n",
       "      <td>1.000000</td>\n",
       "    </tr>\n",
       "    <tr>\n",
       "      <th>8</th>\n",
       "      <td>Randomized Forests</td>\n",
       "      <td>1.000000</td>\n",
       "    </tr>\n",
       "    <tr>\n",
       "      <th>9</th>\n",
       "      <td>Randomized Forests</td>\n",
       "      <td>1.000000</td>\n",
       "    </tr>\n",
       "    <tr>\n",
       "      <th>10</th>\n",
       "      <td>Linear Regression</td>\n",
       "      <td>0.931650</td>\n",
       "    </tr>\n",
       "    <tr>\n",
       "      <th>11</th>\n",
       "      <td>Linear Regression</td>\n",
       "      <td>0.931650</td>\n",
       "    </tr>\n",
       "    <tr>\n",
       "      <th>12</th>\n",
       "      <td>Linear Regression</td>\n",
       "      <td>0.940887</td>\n",
       "    </tr>\n",
       "    <tr>\n",
       "      <th>13</th>\n",
       "      <td>Linear Regression</td>\n",
       "      <td>0.928571</td>\n",
       "    </tr>\n",
       "    <tr>\n",
       "      <th>14</th>\n",
       "      <td>Linear Regression</td>\n",
       "      <td>0.935504</td>\n",
       "    </tr>\n",
       "  </tbody>\n",
       "</table>\n",
       "</div>"
      ],
      "text/plain": [
       "               Algorithm  Accuracy\n",
       "0   K-Nearest Neighbours  0.985837\n",
       "1   K-Nearest Neighbours  0.988916\n",
       "2   K-Nearest Neighbours  0.991379\n",
       "3   K-Nearest Neighbours  0.986453\n",
       "4   K-Nearest Neighbours  0.988329\n",
       "5     Randomized Forests  1.000000\n",
       "6     Randomized Forests  1.000000\n",
       "7     Randomized Forests  1.000000\n",
       "8     Randomized Forests  1.000000\n",
       "9     Randomized Forests  1.000000\n",
       "10     Linear Regression  0.931650\n",
       "11     Linear Regression  0.931650\n",
       "12     Linear Regression  0.940887\n",
       "13     Linear Regression  0.928571\n",
       "14     Linear Regression  0.935504"
      ]
     },
     "metadata": {},
     "output_type": "display_data"
    },
    {
     "data": {
      "image/png": "[encoded data removed]",
      "text/plain": [
       "<Figure size 432x288 with 1 Axes>"
      ]
     },
     "metadata": {
      "needs_background": "light"
     },
     "output_type": "display_data"
    },
    {
     "data": {
      "image/png": "[encoded data removed]",
      "text/plain": [
       "<Figure size 432x288 with 1 Axes>"
      ]
     },
     "metadata": {
      "needs_background": "light"
     },
     "output_type": "display_data"
    },
    {
     "data": {
      "image/png": "[encoded data removed]",
      "text/plain": [
       "<Figure size 432x288 with 1 Axes>"
      ]
     },
     "metadata": {
      "needs_background": "light"
     },
     "output_type": "display_data"
    }
   ],
   "source": [
    "import pandas as pd\n",
    "import seaborn as sbs\n",
    "import matplotlib.pyplot as plt\n",
    "\n",
    "knn_accuracies = []\n",
    "knn_sensibility = []\n",
    "knn_precision = []\n",
    "knn_f1Measure = []\n",
    "knn_name = []\n",
    "randomized_accuracies = []\n",
    "randomized_sensibility = []\n",
    "randomized_precision = []\n",
    "randomized_name = []\n",
    "randomized_f1Measure =[]\n",
    "lr_accuracies = []\n",
    "lr_sensibility = []\n",
    "lr_precision=[]\n",
    "lr_f1Measure=[]\n",
    "lr_name = []\n",
    "\n",
    "### Generating Dataset for Graphs and Tables\n",
    "\n",
    "for result in KKN_metrics_calculated:\n",
    "    knn_accuracies.append(result[\"acc\"])\n",
    "    knn_sensibility.append(result[\"sens\"])\n",
    "    knn_precision.append(result[\"prec\"])\n",
    "    knn_f1Measure.append(result[\"f1\"])\n",
    "    knn_name.append('K-Nearest Neighbours')\n",
    "\n",
    "for result in RFC_metrics_calculated:\n",
    "    randomized_accuracies.append(result[\"acc\"])\n",
    "    randomized_sensibility.append(result[\"sens\"])\n",
    "    randomized_precision.append(result[\"prec\"])\n",
    "    randomized_f1Measure.append(result[\"f1\"])\n",
    "    randomized_name.append('Randomized Forests')\n",
    "\n",
    "for result in LR_metrics_calculated:\n",
    "    lr_accuracies.append(result[\"acc\"])\n",
    "    lr_sensibility.append(result[\"sens\"])\n",
    "    lr_precision.append(result[\"prec\"])\n",
    "    lr_f1Measure.append(result[\"f1\"])\n",
    "    lr_name.append('Linear Regression')\n",
    "    \n",
    "algorithms_accuracy_data = {'Algorithm':knn_name+randomized_name+lr_name,'Accuracy':knn_accuracies+randomized_accuracies+lr_accuracies}\n",
    "df = pd.DataFrame(algorithms_accuracy_data)\n",
    "sbs.boxplot(x=(df[\"Algorithm\"]), y=(df[\"Accuracy\"]))\n",
    "plt.ylim([0.92,1.0])\n",
    "plt.show()\n",
    "\n",
    "algorithms_sensibility_data = {'Algorithm':knn_name+randomized_name+lr_name,'Sensibility':knn_sensibility+randomized_sensibility+lr_sensibility}\n",
    "df = pd.DataFrame(algorithms_sensibility_data)\n",
    "sbs.boxplot(x=(df[\"Algorithm\"]), y=(df[\"Sensibility\"]))\n",
    "plt.ylim([0.92,1.01])\n",
    "plt.show()\n",
    "\n",
    "algorithms_precision_data = {'Algorithm':knn_name+randomized_name+lr_name,'Precision':knn_precision+randomized_precision+lr_precision}\n",
    "df = pd.DataFrame(algorithms_precision_data)\n",
    "sbs.boxplot(x=(df[\"Algorithm\"]), y=(df[\"Precision\"]))\n",
    "plt.ylim([0.92,1.0])\n",
    "plt.show()\n",
    "\n",
    "algorithms_f1_data = {'Algorithm':knn_name+randomized_name+lr_name,'F1-Measure':knn_f1Measure+randomized_f1Measure+lr_f1Measure}\n",
    "df = pd.DataFrame(algorithms_f1_data)\n",
    "sbs.boxplot(x=(df[\"Algorithm\"]), y=(df[\"F1-Measure\"]))\n",
    "plt.ylim([0.92,1.0])\n",
    "plt.show()"
   ]
  },
  {
   "cell_type": "code",
   "execution_count": 108,
   "id": "a2a75474",
   "metadata": {},
   "outputs": [
    {
     "data": {
      "text/plain": [
       "[{'acc': 0.9285714285714286,\n",
       "  'sens': 0.9536266349583828,\n",
       "  'prec': 0.9124004550625711,\n",
       "  'f1': 0.9203580445260499},\n",
       " {'acc': 0.9439655172413793,\n",
       "  'sens': 0.9548156956004756,\n",
       "  'prec': 0.9380841121495327,\n",
       "  'f1': 0.9413833528722154},\n",
       " {'acc': 0.9279556650246306,\n",
       "  'sens': 0.9346016646848989,\n",
       "  'prec': 0.9268867924528302,\n",
       "  'f1': 0.9284195605953226},\n",
       " {'acc': 0.9359605911330049,\n",
       "  'sens': 0.9500594530321046,\n",
       "  'prec': 0.9279907084785134,\n",
       "  'f1': 0.9323220536756126},\n",
       " {'acc': 0.9318181818181818,\n",
       "  'sens': 0.9597156398104265,\n",
       "  'prec': 0.9131905298759865,\n",
       "  'f1': 0.9221311475409835}]"
      ]
     },
     "execution_count": 108,
     "metadata": {},
     "output_type": "execute_result"
    }
   ],
   "source": [
    "LR_metrics_calculated"
   ]
  },
  {
   "cell_type": "markdown",
   "id": "81ef0f7b",
   "metadata": {},
   "source": [
    "## Testing basic functionalities of Python, SKLearn and Pandas"
   ]
  },
  {
   "cell_type": "code",
   "execution_count": 96,
   "id": "7b6d9f76",
   "metadata": {},
   "outputs": [
    {
     "data": {
      "text/html": [
       "<style>#sk-container-id-1 {color: black;background-color: white;}#sk-container-id-1 pre{padding: 0;}#sk-container-id-1 div.sk-toggleable {background-color: white;}#sk-container-id-1 label.sk-toggleable__label {cursor: pointer;display: block;width: 100%;margin-bottom: 0;padding: 0.3em;box-sizing: border-box;text-align: center;}#sk-container-id-1 label.sk-toggleable__label-arrow:before {content: \"▸\";float: left;margin-right: 0.25em;color: #696969;}#sk-container-id-1 label.sk-toggleable__label-arrow:hover:before {color: black;}#sk-container-id-1 div.sk-estimator:hover label.sk-toggleable__label-arrow:before {color: black;}#sk-container-id-1 div.sk-toggleable__content {max-height: 0;max-width: 0;overflow: hidden;text-align: left;background-color: #f0f8ff;}#sk-container-id-1 div.sk-toggleable__content pre {margin: 0.2em;color: black;border-radius: 0.25em;background-color: #f0f8ff;}#sk-container-id-1 input.sk-toggleable__control:checked~div.sk-toggleable__content {max-height: 200px;max-width: 100%;overflow: auto;}#sk-container-id-1 input.sk-toggleable__control:checked~label.sk-toggleable__label-arrow:before {content: \"▾\";}#sk-container-id-1 div.sk-estimator input.sk-toggleable__control:checked~label.sk-toggleable__label {background-color: #d4ebff;}#sk-container-id-1 div.sk-label input.sk-toggleable__control:checked~label.sk-toggleable__label {background-color: #d4ebff;}#sk-container-id-1 input.sk-hidden--visually {border: 0;clip: rect(1px 1px 1px 1px);clip: rect(1px, 1px, 1px, 1px);height: 1px;margin: -1px;overflow: hidden;padding: 0;position: absolute;width: 1px;}#sk-container-id-1 div.sk-estimator {font-family: monospace;background-color: #f0f8ff;border: 1px dotted black;border-radius: 0.25em;box-sizing: border-box;margin-bottom: 0.5em;}#sk-container-id-1 div.sk-estimator:hover {background-color: #d4ebff;}#sk-container-id-1 div.sk-parallel-item::after {content: \"\";width: 100%;border-bottom: 1px solid gray;flex-grow: 1;}#sk-container-id-1 div.sk-label:hover label.sk-toggleable__label {background-color: #d4ebff;}#sk-container-id-1 div.sk-serial::before {content: \"\";position: absolute;border-left: 1px solid gray;box-sizing: border-box;top: 0;bottom: 0;left: 50%;z-index: 0;}#sk-container-id-1 div.sk-serial {display: flex;flex-direction: column;align-items: center;background-color: white;padding-right: 0.2em;padding-left: 0.2em;position: relative;}#sk-container-id-1 div.sk-item {position: relative;z-index: 1;}#sk-container-id-1 div.sk-parallel {display: flex;align-items: stretch;justify-content: center;background-color: white;position: relative;}#sk-container-id-1 div.sk-item::before, #sk-container-id-1 div.sk-parallel-item::before {content: \"\";position: absolute;border-left: 1px solid gray;box-sizing: border-box;top: 0;bottom: 0;left: 50%;z-index: -1;}#sk-container-id-1 div.sk-parallel-item {display: flex;flex-direction: column;z-index: 1;position: relative;background-color: white;}#sk-container-id-1 div.sk-parallel-item:first-child::after {align-self: flex-end;width: 50%;}#sk-container-id-1 div.sk-parallel-item:last-child::after {align-self: flex-start;width: 50%;}#sk-container-id-1 div.sk-parallel-item:only-child::after {width: 0;}#sk-container-id-1 div.sk-dashed-wrapped {border: 1px dashed gray;margin: 0 0.4em 0.5em 0.4em;box-sizing: border-box;padding-bottom: 0.4em;background-color: white;}#sk-container-id-1 div.sk-label label {font-family: monospace;font-weight: bold;display: inline-block;line-height: 1.2em;}#sk-container-id-1 div.sk-label-container {text-align: center;}#sk-container-id-1 div.sk-container {/* jupyter's `normalize.less` sets `[hidden] { display: none; }` but bootstrap.min.css set `[hidden] { display: none !important; }` so we also need the `!important` here to be able to override the default hidden behavior on the sphinx rendered scikit-learn.org. See: https://github.com/scikit-learn/scikit-learn/issues/21755 */display: inline-block !important;position: relative;}#sk-container-id-1 div.sk-text-repr-fallback {display: none;}</style><div id=\"sk-container-id-1\" class=\"sk-top-container\"><div class=\"sk-text-repr-fallback\"><pre>OneHotEncoder(handle_unknown=&#x27;ignore&#x27;)</pre><b>In a Jupyter environment, please rerun this cell to show the HTML representation or trust the notebook. <br />On GitHub, the HTML representation is unable to render, please try loading this page with nbviewer.org.</b></div><div class=\"sk-container\" hidden><div class=\"sk-item\"><div class=\"sk-estimator sk-toggleable\"><input class=\"sk-toggleable__control sk-hidden--visually\" id=\"sk-estimator-id-1\" type=\"checkbox\" checked><label for=\"sk-estimator-id-1\" class=\"sk-toggleable__label sk-toggleable__label-arrow\">OneHotEncoder</label><div class=\"sk-toggleable__content\"><pre>OneHotEncoder(handle_unknown=&#x27;ignore&#x27;)</pre></div></div></div></div></div>"
      ],
      "text/plain": [
       "OneHotEncoder(handle_unknown='ignore')"
      ]
     },
     "execution_count": 96,
     "metadata": {},
     "output_type": "execute_result"
    }
   ],
   "source": [
    "Encoder.fit(fold_dataframes[0])"
   ]
  },
  {
   "cell_type": "code",
   "execution_count": 98,
   "id": "db066008",
   "metadata": {},
   "outputs": [
    {
     "data": {
      "text/plain": [
       "[array([0, 1, 2, 3, 4, 5], dtype=int64),\n",
       " array([0, 1, 2, 3], dtype=int64),\n",
       " array([0, 1, 2, 3, 4, 5, 6, 7, 8, 9], dtype=int64),\n",
       " array([0, 1], dtype=int64),\n",
       " array([0, 1, 2, 3, 4, 5, 6, 7, 8], dtype=int64),\n",
       " array([0, 1], dtype=int64),\n",
       " array([0, 1], dtype=int64),\n",
       " array([0, 1], dtype=int64),\n",
       " array([ 0,  1,  2,  3,  4,  5,  6,  7,  8,  9, 10, 11], dtype=int64),\n",
       " array([0, 1], dtype=int64),\n",
       " array([0, 1, 2, 3, 4], dtype=int64),\n",
       " array([0, 1, 2, 3], dtype=int64),\n",
       " array([0, 1, 2, 3], dtype=int64),\n",
       " array([0, 1, 2, 3, 4, 5, 6, 7, 8], dtype=int64),\n",
       " array([0, 1, 2, 3, 4, 5, 6, 7, 8], dtype=int64),\n",
       " array([0], dtype=int64),\n",
       " array([0, 1, 2, 3], dtype=int64),\n",
       " array([0, 1, 2], dtype=int64),\n",
       " array([0, 1, 2, 3, 4], dtype=int64),\n",
       " array([0, 1, 2, 3, 4, 5, 6, 7, 8], dtype=int64),\n",
       " array([0, 1, 2, 3, 4, 5], dtype=int64),\n",
       " array([0, 1, 2, 3, 4, 5, 6], dtype=int64),\n",
       " array([0, 1], dtype=int64)]"
      ]
     },
     "execution_count": 98,
     "metadata": {},
     "output_type": "execute_result"
    }
   ],
   "source": [
    "Encoder.categories_"
   ]
  },
  {
   "cell_type": "code",
   "execution_count": 3,
   "id": "86ff48a7",
   "metadata": {},
   "outputs": [
    {
     "data": {
      "text/html": [
       "<div>\n",
       "<style scoped>\n",
       "    .dataframe tbody tr th:only-of-type {\n",
       "        vertical-align: middle;\n",
       "    }\n",
       "\n",
       "    .dataframe tbody tr th {\n",
       "        vertical-align: top;\n",
       "    }\n",
       "\n",
       "    .dataframe thead th {\n",
       "        text-align: right;\n",
       "    }\n",
       "</style>\n",
       "<table border=\"1\" class=\"dataframe\">\n",
       "  <thead>\n",
       "    <tr style=\"text-align: right;\">\n",
       "      <th></th>\n",
       "      <th>cap-shape</th>\n",
       "      <th>cap-surface</th>\n",
       "      <th>cap-color</th>\n",
       "      <th>bruises?</th>\n",
       "      <th>odor</th>\n",
       "      <th>gill-attachment</th>\n",
       "      <th>gill-spacing</th>\n",
       "      <th>gill-size</th>\n",
       "      <th>gill-color</th>\n",
       "      <th>stalk-shape</th>\n",
       "      <th>...</th>\n",
       "      <th>stalk-color-above-ring</th>\n",
       "      <th>stalk-color-below-ring</th>\n",
       "      <th>veil-type</th>\n",
       "      <th>veil-color</th>\n",
       "      <th>ring-number</th>\n",
       "      <th>ring-type</th>\n",
       "      <th>spore-print-color</th>\n",
       "      <th>population</th>\n",
       "      <th>habitat</th>\n",
       "      <th>target</th>\n",
       "    </tr>\n",
       "  </thead>\n",
       "  <tbody>\n",
       "    <tr>\n",
       "      <th>0</th>\n",
       "      <td>2</td>\n",
       "      <td>0</td>\n",
       "      <td>7</td>\n",
       "      <td>0</td>\n",
       "      <td>6</td>\n",
       "      <td>1</td>\n",
       "      <td>0</td>\n",
       "      <td>0</td>\n",
       "      <td>8</td>\n",
       "      <td>1</td>\n",
       "      <td>...</td>\n",
       "      <td>3</td>\n",
       "      <td>5</td>\n",
       "      <td>0</td>\n",
       "      <td>2</td>\n",
       "      <td>1</td>\n",
       "      <td>4</td>\n",
       "      <td>1</td>\n",
       "      <td>4</td>\n",
       "      <td>6</td>\n",
       "      <td>0</td>\n",
       "    </tr>\n",
       "    <tr>\n",
       "      <th>1</th>\n",
       "      <td>0</td>\n",
       "      <td>3</td>\n",
       "      <td>9</td>\n",
       "      <td>0</td>\n",
       "      <td>0</td>\n",
       "      <td>1</td>\n",
       "      <td>0</td>\n",
       "      <td>0</td>\n",
       "      <td>4</td>\n",
       "      <td>0</td>\n",
       "      <td>...</td>\n",
       "      <td>7</td>\n",
       "      <td>7</td>\n",
       "      <td>0</td>\n",
       "      <td>2</td>\n",
       "      <td>1</td>\n",
       "      <td>4</td>\n",
       "      <td>0</td>\n",
       "      <td>2</td>\n",
       "      <td>0</td>\n",
       "      <td>0</td>\n",
       "    </tr>\n",
       "    <tr>\n",
       "      <th>2</th>\n",
       "      <td>2</td>\n",
       "      <td>3</td>\n",
       "      <td>8</td>\n",
       "      <td>1</td>\n",
       "      <td>6</td>\n",
       "      <td>1</td>\n",
       "      <td>1</td>\n",
       "      <td>0</td>\n",
       "      <td>0</td>\n",
       "      <td>1</td>\n",
       "      <td>...</td>\n",
       "      <td>7</td>\n",
       "      <td>7</td>\n",
       "      <td>0</td>\n",
       "      <td>2</td>\n",
       "      <td>1</td>\n",
       "      <td>0</td>\n",
       "      <td>0</td>\n",
       "      <td>3</td>\n",
       "      <td>0</td>\n",
       "      <td>0</td>\n",
       "    </tr>\n",
       "    <tr>\n",
       "      <th>3</th>\n",
       "      <td>2</td>\n",
       "      <td>2</td>\n",
       "      <td>3</td>\n",
       "      <td>1</td>\n",
       "      <td>4</td>\n",
       "      <td>1</td>\n",
       "      <td>0</td>\n",
       "      <td>0</td>\n",
       "      <td>4</td>\n",
       "      <td>0</td>\n",
       "      <td>...</td>\n",
       "      <td>0</td>\n",
       "      <td>5</td>\n",
       "      <td>0</td>\n",
       "      <td>2</td>\n",
       "      <td>1</td>\n",
       "      <td>2</td>\n",
       "      <td>3</td>\n",
       "      <td>4</td>\n",
       "      <td>3</td>\n",
       "      <td>1</td>\n",
       "    </tr>\n",
       "    <tr>\n",
       "      <th>4</th>\n",
       "      <td>3</td>\n",
       "      <td>0</td>\n",
       "      <td>0</td>\n",
       "      <td>0</td>\n",
       "      <td>6</td>\n",
       "      <td>1</td>\n",
       "      <td>0</td>\n",
       "      <td>0</td>\n",
       "      <td>8</td>\n",
       "      <td>1</td>\n",
       "      <td>...</td>\n",
       "      <td>7</td>\n",
       "      <td>5</td>\n",
       "      <td>0</td>\n",
       "      <td>2</td>\n",
       "      <td>1</td>\n",
       "      <td>4</td>\n",
       "      <td>0</td>\n",
       "      <td>5</td>\n",
       "      <td>6</td>\n",
       "      <td>0</td>\n",
       "    </tr>\n",
       "    <tr>\n",
       "      <th>...</th>\n",
       "      <td>...</td>\n",
       "      <td>...</td>\n",
       "      <td>...</td>\n",
       "      <td>...</td>\n",
       "      <td>...</td>\n",
       "      <td>...</td>\n",
       "      <td>...</td>\n",
       "      <td>...</td>\n",
       "      <td>...</td>\n",
       "      <td>...</td>\n",
       "      <td>...</td>\n",
       "      <td>...</td>\n",
       "      <td>...</td>\n",
       "      <td>...</td>\n",
       "      <td>...</td>\n",
       "      <td>...</td>\n",
       "      <td>...</td>\n",
       "      <td>...</td>\n",
       "      <td>...</td>\n",
       "      <td>...</td>\n",
       "      <td>...</td>\n",
       "    </tr>\n",
       "    <tr>\n",
       "      <th>8119</th>\n",
       "      <td>3</td>\n",
       "      <td>2</td>\n",
       "      <td>0</td>\n",
       "      <td>1</td>\n",
       "      <td>8</td>\n",
       "      <td>1</td>\n",
       "      <td>0</td>\n",
       "      <td>1</td>\n",
       "      <td>2</td>\n",
       "      <td>1</td>\n",
       "      <td>...</td>\n",
       "      <td>5</td>\n",
       "      <td>7</td>\n",
       "      <td>0</td>\n",
       "      <td>2</td>\n",
       "      <td>1</td>\n",
       "      <td>0</td>\n",
       "      <td>7</td>\n",
       "      <td>4</td>\n",
       "      <td>1</td>\n",
       "      <td>1</td>\n",
       "    </tr>\n",
       "    <tr>\n",
       "      <th>8120</th>\n",
       "      <td>3</td>\n",
       "      <td>2</td>\n",
       "      <td>8</td>\n",
       "      <td>0</td>\n",
       "      <td>7</td>\n",
       "      <td>1</td>\n",
       "      <td>0</td>\n",
       "      <td>1</td>\n",
       "      <td>0</td>\n",
       "      <td>0</td>\n",
       "      <td>...</td>\n",
       "      <td>7</td>\n",
       "      <td>7</td>\n",
       "      <td>0</td>\n",
       "      <td>2</td>\n",
       "      <td>1</td>\n",
       "      <td>4</td>\n",
       "      <td>0</td>\n",
       "      <td>3</td>\n",
       "      <td>4</td>\n",
       "      <td>1</td>\n",
       "    </tr>\n",
       "    <tr>\n",
       "      <th>8121</th>\n",
       "      <td>2</td>\n",
       "      <td>0</td>\n",
       "      <td>8</td>\n",
       "      <td>1</td>\n",
       "      <td>6</td>\n",
       "      <td>1</td>\n",
       "      <td>1</td>\n",
       "      <td>0</td>\n",
       "      <td>4</td>\n",
       "      <td>0</td>\n",
       "      <td>...</td>\n",
       "      <td>7</td>\n",
       "      <td>7</td>\n",
       "      <td>0</td>\n",
       "      <td>2</td>\n",
       "      <td>2</td>\n",
       "      <td>4</td>\n",
       "      <td>7</td>\n",
       "      <td>2</td>\n",
       "      <td>0</td>\n",
       "      <td>0</td>\n",
       "    </tr>\n",
       "    <tr>\n",
       "      <th>8122</th>\n",
       "      <td>2</td>\n",
       "      <td>3</td>\n",
       "      <td>8</td>\n",
       "      <td>1</td>\n",
       "      <td>6</td>\n",
       "      <td>1</td>\n",
       "      <td>1</td>\n",
       "      <td>0</td>\n",
       "      <td>4</td>\n",
       "      <td>0</td>\n",
       "      <td>...</td>\n",
       "      <td>7</td>\n",
       "      <td>7</td>\n",
       "      <td>0</td>\n",
       "      <td>2</td>\n",
       "      <td>2</td>\n",
       "      <td>4</td>\n",
       "      <td>7</td>\n",
       "      <td>3</td>\n",
       "      <td>0</td>\n",
       "      <td>0</td>\n",
       "    </tr>\n",
       "    <tr>\n",
       "      <th>8123</th>\n",
       "      <td>3</td>\n",
       "      <td>2</td>\n",
       "      <td>0</td>\n",
       "      <td>1</td>\n",
       "      <td>3</td>\n",
       "      <td>1</td>\n",
       "      <td>0</td>\n",
       "      <td>1</td>\n",
       "      <td>2</td>\n",
       "      <td>1</td>\n",
       "      <td>...</td>\n",
       "      <td>7</td>\n",
       "      <td>5</td>\n",
       "      <td>0</td>\n",
       "      <td>2</td>\n",
       "      <td>1</td>\n",
       "      <td>0</td>\n",
       "      <td>7</td>\n",
       "      <td>4</td>\n",
       "      <td>6</td>\n",
       "      <td>1</td>\n",
       "    </tr>\n",
       "  </tbody>\n",
       "</table>\n",
       "<p>8124 rows × 23 columns</p>\n",
       "</div>"
      ],
      "text/plain": [
       "      cap-shape  cap-surface  cap-color  bruises?  odor  gill-attachment  \\\n",
       "0             2            0          7         0     6                1   \n",
       "1             0            3          9         0     0                1   \n",
       "2             2            3          8         1     6                1   \n",
       "3             2            2          3         1     4                1   \n",
       "4             3            0          0         0     6                1   \n",
       "...         ...          ...        ...       ...   ...              ...   \n",
       "8119          3            2          0         1     8                1   \n",
       "8120          3            2          8         0     7                1   \n",
       "8121          2            0          8         1     6                1   \n",
       "8122          2            3          8         1     6                1   \n",
       "8123          3            2          0         1     3                1   \n",
       "\n",
       "      gill-spacing  gill-size  gill-color  stalk-shape  ...  \\\n",
       "0                0          0           8            1  ...   \n",
       "1                0          0           4            0  ...   \n",
       "2                1          0           0            1  ...   \n",
       "3                0          0           4            0  ...   \n",
       "4                0          0           8            1  ...   \n",
       "...            ...        ...         ...          ...  ...   \n",
       "8119             0          1           2            1  ...   \n",
       "8120             0          1           0            0  ...   \n",
       "8121             1          0           4            0  ...   \n",
       "8122             1          0           4            0  ...   \n",
       "8123             0          1           2            1  ...   \n",
       "\n",
       "      stalk-color-above-ring  stalk-color-below-ring  veil-type  veil-color  \\\n",
       "0                          3                       5          0           2   \n",
       "1                          7                       7          0           2   \n",
       "2                          7                       7          0           2   \n",
       "3                          0                       5          0           2   \n",
       "4                          7                       5          0           2   \n",
       "...                      ...                     ...        ...         ...   \n",
       "8119                       5                       7          0           2   \n",
       "8120                       7                       7          0           2   \n",
       "8121                       7                       7          0           2   \n",
       "8122                       7                       7          0           2   \n",
       "8123                       7                       5          0           2   \n",
       "\n",
       "      ring-number  ring-type  spore-print-color  population  habitat  target  \n",
       "0               1          4                  1           4        6       0  \n",
       "1               1          4                  0           2        0       0  \n",
       "2               1          0                  0           3        0       0  \n",
       "3               1          2                  3           4        3       1  \n",
       "4               1          4                  0           5        6       0  \n",
       "...           ...        ...                ...         ...      ...     ...  \n",
       "8119            1          0                  7           4        1       1  \n",
       "8120            1          4                  0           3        4       1  \n",
       "8121            2          4                  7           2        0       0  \n",
       "8122            2          4                  7           3        0       0  \n",
       "8123            1          0                  7           4        6       1  \n",
       "\n",
       "[8124 rows x 23 columns]"
      ]
     },
     "execution_count": 3,
     "metadata": {},
     "output_type": "execute_result"
    }
   ],
   "source": [
    "data"
   ]
  },
  {
   "cell_type": "code",
   "execution_count": 28,
   "id": "a97f90e1",
   "metadata": {},
   "outputs": [
    {
     "data": {
      "text/plain": [
       "2950    0\n",
       "4817    1\n",
       "6910    0\n",
       "2580    0\n",
       "6968    0\n",
       "7251    1\n",
       "6071    1\n",
       "6680    1\n",
       "430     1\n",
       "4449    0\n",
       "Name: target, dtype: int64"
      ]
     },
     "execution_count": 28,
     "metadata": {},
     "output_type": "execute_result"
    }
   ],
   "source": [
    "data.sample(10).target"
   ]
  },
  {
   "cell_type": "code",
   "execution_count": 7,
   "id": "04082852",
   "metadata": {},
   "outputs": [],
   "source": [
    "new_df = data[data['target'] == 0].sample(frac=0.005)"
   ]
  },
  {
   "cell_type": "code",
   "execution_count": 8,
   "id": "0fd55649",
   "metadata": {},
   "outputs": [],
   "source": [
    "new_df = data[data['target'] == 0].sample(frac=0.005)\n",
    "new_df_2 = new_df.sample(n=11)\n",
    "new_df = new_df.drop(new_df_2.index)"
   ]
  },
  {
   "cell_type": "code",
   "execution_count": 10,
   "id": "3e18378c",
   "metadata": {},
   "outputs": [
    {
     "data": {
      "text/plain": [
       "11"
      ]
     },
     "execution_count": 10,
     "metadata": {},
     "output_type": "execute_result"
    }
   ],
   "source": [
    "new_df_2.shape[0]"
   ]
  },
  {
   "cell_type": "code",
   "execution_count": 59,
   "id": "6f8f010f",
   "metadata": {},
   "outputs": [
    {
     "data": {
      "text/html": [
       "<div>\n",
       "<style scoped>\n",
       "    .dataframe tbody tr th:only-of-type {\n",
       "        vertical-align: middle;\n",
       "    }\n",
       "\n",
       "    .dataframe tbody tr th {\n",
       "        vertical-align: top;\n",
       "    }\n",
       "\n",
       "    .dataframe thead th {\n",
       "        text-align: right;\n",
       "    }\n",
       "</style>\n",
       "<table border=\"1\" class=\"dataframe\">\n",
       "  <thead>\n",
       "    <tr style=\"text-align: right;\">\n",
       "      <th></th>\n",
       "      <th>cap-shape</th>\n",
       "      <th>cap-surface</th>\n",
       "      <th>cap-color</th>\n",
       "      <th>bruises?</th>\n",
       "      <th>odor</th>\n",
       "      <th>gill-attachment</th>\n",
       "      <th>gill-spacing</th>\n",
       "      <th>gill-size</th>\n",
       "      <th>gill-color</th>\n",
       "      <th>stalk-shape</th>\n",
       "      <th>...</th>\n",
       "      <th>stalk-color-above-ring</th>\n",
       "      <th>stalk-color-below-ring</th>\n",
       "      <th>veil-type</th>\n",
       "      <th>veil-color</th>\n",
       "      <th>ring-number</th>\n",
       "      <th>ring-type</th>\n",
       "      <th>spore-print-color</th>\n",
       "      <th>population</th>\n",
       "      <th>habitat</th>\n",
       "      <th>target</th>\n",
       "    </tr>\n",
       "  </thead>\n",
       "  <tbody>\n",
       "    <tr>\n",
       "      <th>1725</th>\n",
       "      <td>2</td>\n",
       "      <td>2</td>\n",
       "      <td>9</td>\n",
       "      <td>0</td>\n",
       "      <td>0</td>\n",
       "      <td>1</td>\n",
       "      <td>0</td>\n",
       "      <td>0</td>\n",
       "      <td>4</td>\n",
       "      <td>0</td>\n",
       "      <td>...</td>\n",
       "      <td>7</td>\n",
       "      <td>7</td>\n",
       "      <td>0</td>\n",
       "      <td>2</td>\n",
       "      <td>1</td>\n",
       "      <td>4</td>\n",
       "      <td>0</td>\n",
       "      <td>2</td>\n",
       "      <td>2</td>\n",
       "      <td>0</td>\n",
       "    </tr>\n",
       "    <tr>\n",
       "      <th>3705</th>\n",
       "      <td>2</td>\n",
       "      <td>2</td>\n",
       "      <td>7</td>\n",
       "      <td>0</td>\n",
       "      <td>6</td>\n",
       "      <td>1</td>\n",
       "      <td>0</td>\n",
       "      <td>0</td>\n",
       "      <td>10</td>\n",
       "      <td>1</td>\n",
       "      <td>...</td>\n",
       "      <td>5</td>\n",
       "      <td>3</td>\n",
       "      <td>0</td>\n",
       "      <td>2</td>\n",
       "      <td>1</td>\n",
       "      <td>4</td>\n",
       "      <td>0</td>\n",
       "      <td>5</td>\n",
       "      <td>6</td>\n",
       "      <td>0</td>\n",
       "    </tr>\n",
       "    <tr>\n",
       "      <th>7180</th>\n",
       "      <td>2</td>\n",
       "      <td>2</td>\n",
       "      <td>8</td>\n",
       "      <td>0</td>\n",
       "      <td>1</td>\n",
       "      <td>1</td>\n",
       "      <td>0</td>\n",
       "      <td>0</td>\n",
       "      <td>4</td>\n",
       "      <td>0</td>\n",
       "      <td>...</td>\n",
       "      <td>7</td>\n",
       "      <td>7</td>\n",
       "      <td>0</td>\n",
       "      <td>2</td>\n",
       "      <td>1</td>\n",
       "      <td>4</td>\n",
       "      <td>0</td>\n",
       "      <td>2</td>\n",
       "      <td>0</td>\n",
       "      <td>0</td>\n",
       "    </tr>\n",
       "    <tr>\n",
       "      <th>624</th>\n",
       "      <td>2</td>\n",
       "      <td>2</td>\n",
       "      <td>0</td>\n",
       "      <td>0</td>\n",
       "      <td>6</td>\n",
       "      <td>1</td>\n",
       "      <td>0</td>\n",
       "      <td>0</td>\n",
       "      <td>8</td>\n",
       "      <td>1</td>\n",
       "      <td>...</td>\n",
       "      <td>7</td>\n",
       "      <td>5</td>\n",
       "      <td>0</td>\n",
       "      <td>2</td>\n",
       "      <td>1</td>\n",
       "      <td>4</td>\n",
       "      <td>0</td>\n",
       "      <td>4</td>\n",
       "      <td>6</td>\n",
       "      <td>0</td>\n",
       "    </tr>\n",
       "    <tr>\n",
       "      <th>840</th>\n",
       "      <td>2</td>\n",
       "      <td>3</td>\n",
       "      <td>8</td>\n",
       "      <td>0</td>\n",
       "      <td>1</td>\n",
       "      <td>1</td>\n",
       "      <td>0</td>\n",
       "      <td>0</td>\n",
       "      <td>4</td>\n",
       "      <td>0</td>\n",
       "      <td>...</td>\n",
       "      <td>7</td>\n",
       "      <td>7</td>\n",
       "      <td>0</td>\n",
       "      <td>2</td>\n",
       "      <td>1</td>\n",
       "      <td>4</td>\n",
       "      <td>0</td>\n",
       "      <td>3</td>\n",
       "      <td>0</td>\n",
       "      <td>0</td>\n",
       "    </tr>\n",
       "    <tr>\n",
       "      <th>1398</th>\n",
       "      <td>2</td>\n",
       "      <td>2</td>\n",
       "      <td>0</td>\n",
       "      <td>0</td>\n",
       "      <td>6</td>\n",
       "      <td>1</td>\n",
       "      <td>0</td>\n",
       "      <td>0</td>\n",
       "      <td>8</td>\n",
       "      <td>1</td>\n",
       "      <td>...</td>\n",
       "      <td>3</td>\n",
       "      <td>5</td>\n",
       "      <td>0</td>\n",
       "      <td>2</td>\n",
       "      <td>1</td>\n",
       "      <td>4</td>\n",
       "      <td>1</td>\n",
       "      <td>4</td>\n",
       "      <td>6</td>\n",
       "      <td>0</td>\n",
       "    </tr>\n",
       "    <tr>\n",
       "      <th>6412</th>\n",
       "      <td>3</td>\n",
       "      <td>2</td>\n",
       "      <td>0</td>\n",
       "      <td>0</td>\n",
       "      <td>1</td>\n",
       "      <td>1</td>\n",
       "      <td>0</td>\n",
       "      <td>0</td>\n",
       "      <td>10</td>\n",
       "      <td>0</td>\n",
       "      <td>...</td>\n",
       "      <td>7</td>\n",
       "      <td>7</td>\n",
       "      <td>0</td>\n",
       "      <td>2</td>\n",
       "      <td>1</td>\n",
       "      <td>4</td>\n",
       "      <td>1</td>\n",
       "      <td>3</td>\n",
       "      <td>3</td>\n",
       "      <td>0</td>\n",
       "    </tr>\n",
       "    <tr>\n",
       "      <th>7367</th>\n",
       "      <td>0</td>\n",
       "      <td>3</td>\n",
       "      <td>9</td>\n",
       "      <td>0</td>\n",
       "      <td>1</td>\n",
       "      <td>1</td>\n",
       "      <td>0</td>\n",
       "      <td>0</td>\n",
       "      <td>0</td>\n",
       "      <td>0</td>\n",
       "      <td>...</td>\n",
       "      <td>7</td>\n",
       "      <td>7</td>\n",
       "      <td>0</td>\n",
       "      <td>2</td>\n",
       "      <td>1</td>\n",
       "      <td>4</td>\n",
       "      <td>1</td>\n",
       "      <td>2</td>\n",
       "      <td>2</td>\n",
       "      <td>0</td>\n",
       "    </tr>\n",
       "    <tr>\n",
       "      <th>3840</th>\n",
       "      <td>0</td>\n",
       "      <td>3</td>\n",
       "      <td>8</td>\n",
       "      <td>0</td>\n",
       "      <td>0</td>\n",
       "      <td>1</td>\n",
       "      <td>0</td>\n",
       "      <td>0</td>\n",
       "      <td>4</td>\n",
       "      <td>0</td>\n",
       "      <td>...</td>\n",
       "      <td>7</td>\n",
       "      <td>7</td>\n",
       "      <td>0</td>\n",
       "      <td>2</td>\n",
       "      <td>1</td>\n",
       "      <td>4</td>\n",
       "      <td>1</td>\n",
       "      <td>2</td>\n",
       "      <td>0</td>\n",
       "      <td>0</td>\n",
       "    </tr>\n",
       "    <tr>\n",
       "      <th>186</th>\n",
       "      <td>4</td>\n",
       "      <td>0</td>\n",
       "      <td>3</td>\n",
       "      <td>1</td>\n",
       "      <td>6</td>\n",
       "      <td>1</td>\n",
       "      <td>1</td>\n",
       "      <td>0</td>\n",
       "      <td>10</td>\n",
       "      <td>0</td>\n",
       "      <td>...</td>\n",
       "      <td>7</td>\n",
       "      <td>7</td>\n",
       "      <td>0</td>\n",
       "      <td>2</td>\n",
       "      <td>2</td>\n",
       "      <td>4</td>\n",
       "      <td>7</td>\n",
       "      <td>2</td>\n",
       "      <td>0</td>\n",
       "      <td>0</td>\n",
       "    </tr>\n",
       "    <tr>\n",
       "      <th>1387</th>\n",
       "      <td>2</td>\n",
       "      <td>3</td>\n",
       "      <td>0</td>\n",
       "      <td>1</td>\n",
       "      <td>6</td>\n",
       "      <td>0</td>\n",
       "      <td>0</td>\n",
       "      <td>0</td>\n",
       "      <td>6</td>\n",
       "      <td>0</td>\n",
       "      <td>...</td>\n",
       "      <td>4</td>\n",
       "      <td>4</td>\n",
       "      <td>0</td>\n",
       "      <td>0</td>\n",
       "      <td>1</td>\n",
       "      <td>4</td>\n",
       "      <td>2</td>\n",
       "      <td>1</td>\n",
       "      <td>1</td>\n",
       "      <td>0</td>\n",
       "    </tr>\n",
       "  </tbody>\n",
       "</table>\n",
       "<p>11 rows × 23 columns</p>\n",
       "</div>"
      ],
      "text/plain": [
       "      cap-shape  cap-surface  cap-color  bruises?  odor  gill-attachment  \\\n",
       "1725          2            2          9         0     0                1   \n",
       "3705          2            2          7         0     6                1   \n",
       "7180          2            2          8         0     1                1   \n",
       "624           2            2          0         0     6                1   \n",
       "840           2            3          8         0     1                1   \n",
       "1398          2            2          0         0     6                1   \n",
       "6412          3            2          0         0     1                1   \n",
       "7367          0            3          9         0     1                1   \n",
       "3840          0            3          8         0     0                1   \n",
       "186           4            0          3         1     6                1   \n",
       "1387          2            3          0         1     6                0   \n",
       "\n",
       "      gill-spacing  gill-size  gill-color  stalk-shape  ...  \\\n",
       "1725             0          0           4            0  ...   \n",
       "3705             0          0          10            1  ...   \n",
       "7180             0          0           4            0  ...   \n",
       "624              0          0           8            1  ...   \n",
       "840              0          0           4            0  ...   \n",
       "1398             0          0           8            1  ...   \n",
       "6412             0          0          10            0  ...   \n",
       "7367             0          0           0            0  ...   \n",
       "3840             0          0           4            0  ...   \n",
       "186              1          0          10            0  ...   \n",
       "1387             0          0           6            0  ...   \n",
       "\n",
       "      stalk-color-above-ring  stalk-color-below-ring  veil-type  veil-color  \\\n",
       "1725                       7                       7          0           2   \n",
       "3705                       5                       3          0           2   \n",
       "7180                       7                       7          0           2   \n",
       "624                        7                       5          0           2   \n",
       "840                        7                       7          0           2   \n",
       "1398                       3                       5          0           2   \n",
       "6412                       7                       7          0           2   \n",
       "7367                       7                       7          0           2   \n",
       "3840                       7                       7          0           2   \n",
       "186                        7                       7          0           2   \n",
       "1387                       4                       4          0           0   \n",
       "\n",
       "      ring-number  ring-type  spore-print-color  population  habitat  target  \n",
       "1725            1          4                  0           2        2       0  \n",
       "3705            1          4                  0           5        6       0  \n",
       "7180            1          4                  0           2        0       0  \n",
       "624             1          4                  0           4        6       0  \n",
       "840             1          4                  0           3        0       0  \n",
       "1398            1          4                  1           4        6       0  \n",
       "6412            1          4                  1           3        3       0  \n",
       "7367            1          4                  1           2        2       0  \n",
       "3840            1          4                  1           2        0       0  \n",
       "186             2          4                  7           2        0       0  \n",
       "1387            1          4                  2           1        1       0  \n",
       "\n",
       "[11 rows x 23 columns]"
      ]
     },
     "execution_count": 59,
     "metadata": {},
     "output_type": "execute_result"
    }
   ],
   "source": [
    "new_df_2"
   ]
  },
  {
   "cell_type": "code",
   "execution_count": null,
   "id": "f4c5812b",
   "metadata": {},
   "outputs": [],
   "source": []
  }
 ],
 "metadata": {
  "kernelspec": {
   "display_name": "Python 3 (ipykernel)",
   "language": "python",
   "name": "python3"
  },
  "language_info": {
   "codemirror_mode": {
    "name": "ipython",
    "version": 3
   },
   "file_extension": ".py",
   "mimetype": "text/x-python",
   "name": "python",
   "nbconvert_exporter": "python",
   "pygments_lexer": "ipython3",
   "version": "3.9.12"
  }
 },
 "nbformat": 4,
 "nbformat_minor": 5
}
